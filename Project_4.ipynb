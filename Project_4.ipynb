{
  "nbformat": 4,
  "nbformat_minor": 0,
  "metadata": {
    "colab": {
      "provenance": []
    },
    "kernelspec": {
      "name": "python3",
      "display_name": "Python 3"
    },
    "language_info": {
      "name": "python"
    }
  },
  "cells": [
    {
      "cell_type": "code",
      "source": [
        "# comments are mine"
      ],
      "metadata": {
        "id": "OBRjU1PIFK51"
      },
      "execution_count": null,
      "outputs": []
    },
    {
      "cell_type": "code",
      "execution_count": null,
      "metadata": {
        "colab": {
          "base_uri": "https://localhost:8080/"
        },
        "id": "EWs0K_G3ykYB",
        "outputId": "d961e773-5db7-44ba-efd5-ec639fad2d0f",
        "collapsed": true
      },
      "outputs": [
        {
          "output_type": "stream",
          "name": "stdout",
          "text": [
            "Requirement already satisfied: rdkit-pypi in /usr/local/lib/python3.10/dist-packages (2022.9.5)\n",
            "Requirement already satisfied: numpy in /usr/local/lib/python3.10/dist-packages (from rdkit-pypi) (1.25.2)\n",
            "Requirement already satisfied: Pillow in /usr/local/lib/python3.10/dist-packages (from rdkit-pypi) (9.4.0)\n"
          ]
        }
      ],
      "source": [
        "!pip install rdkit-pypi"
      ]
    },
    {
      "cell_type": "code",
      "source": [
        "from rdkit.Chem import AllChem\n",
        "from rdkit import Chem\n",
        "from rdkit.Chem import Descriptors\n",
        "from rdkit.ML.Descriptors import MoleculeDescriptors"
      ],
      "metadata": {
        "id": "VUcyaVnmS_ne"
      },
      "execution_count": null,
      "outputs": []
    },
    {
      "cell_type": "code",
      "source": [
        "import pandas as pd\n",
        "pd.set_option('display.max_columns',None)\n",
        "import numpy as np"
      ],
      "metadata": {
        "id": "faANDCedzF3i"
      },
      "execution_count": null,
      "outputs": []
    },
    {
      "cell_type": "code",
      "source": [
        "# df = pd.read_csv('/content/drive/MyDrive/bcrabl_ic50.csv')"
      ],
      "metadata": {
        "id": "ueb05lZbzk0L"
      },
      "execution_count": null,
      "outputs": []
    },
    {
      "cell_type": "code",
      "source": [
        "# df"
      ],
      "metadata": {
        "id": "iLywDVD0IZe_"
      },
      "execution_count": null,
      "outputs": []
    },
    {
      "cell_type": "markdown",
      "source": [
        "# Feature engineering"
      ],
      "metadata": {
        "id": "YTA7jCRfdsyV"
      }
    },
    {
      "cell_type": "markdown",
      "source": [
        "## Canonical SMILES generation"
      ],
      "metadata": {
        "id": "xK7k9YzNdkz-"
      }
    },
    {
      "cell_type": "code",
      "source": [
        "# def canonical_smiles(smiles):\n",
        "#    mols = [Chem.MolFromSmiles(smi) for smi in smiles]\n",
        "#    canonical_smiles = [Chem.MolToSmiles(mol) for mol in mols]\n",
        "#    return canonical_smiles\n",
        "\n",
        "# df['canonical'] = canonical_smiles(df['smiles'])"
      ],
      "metadata": {
        "id": "X13WhLOedj20"
      },
      "execution_count": null,
      "outputs": []
    },
    {
      "cell_type": "code",
      "source": [
        "# len(df['canonical'])"
      ],
      "metadata": {
        "id": "pY8UEMSeqWR3"
      },
      "execution_count": null,
      "outputs": []
    },
    {
      "cell_type": "code",
      "source": [
        "# df"
      ],
      "metadata": {
        "id": "2LtVYmxtp0ND"
      },
      "execution_count": null,
      "outputs": []
    },
    {
      "cell_type": "markdown",
      "source": [
        "## Duplicate handling"
      ],
      "metadata": {
        "id": "tL2xSx-isMk8"
      }
    },
    {
      "cell_type": "code",
      "source": [
        "# #calculate duplicates\n",
        "\n",
        "# duplicate = df[df['canonical'].duplicated()]['canonical'].values\n",
        "# len(duplicate)"
      ],
      "metadata": {
        "id": "Xl6R9h_9sP5-"
      },
      "execution_count": null,
      "outputs": []
    },
    {
      "cell_type": "code",
      "source": [
        "# # see/list duplicates\n",
        "\n",
        "# df[df['canonical'].isin(duplicate)].sort_values(by='canonical')"
      ],
      "metadata": {
        "id": "r_JnZQeZuFMD"
      },
      "execution_count": null,
      "outputs": []
    },
    {
      "cell_type": "code",
      "source": [
        "# #drop duplicates\n",
        "\n",
        "# df = df.drop_duplicates(subset='canonical')\n",
        "# df"
      ],
      "metadata": {
        "id": "ledhUWxAzRTn"
      },
      "execution_count": null,
      "outputs": []
    },
    {
      "cell_type": "markdown",
      "source": [],
      "metadata": {
        "id": "01zhWKiBz8KE"
      }
    },
    {
      "cell_type": "markdown",
      "source": [
        "## Descriptor calculation (RDKit)"
      ],
      "metadata": {
        "id": "8WnDl6Wb0LFg"
      }
    },
    {
      "cell_type": "code",
      "source": [
        "# #define function\n",
        "\n",
        "# def RDkit_descriptors(smiles):\n",
        "#     mols = [Chem.MolFromSmiles(i) for i in smiles]\n",
        "#     calc = MoleculeDescriptors.MolecularDescriptorCalculator([x[0] for x in Descriptors._descList])\n",
        "#     desc_names = calc.GetDescriptorNames()\n",
        "\n",
        "#     Mol_descriptors =[]\n",
        "#     for mol in mols:\n",
        "#         # add hydrogens to molecules\n",
        "#         mol=Chem.AddHs(mol)\n",
        "#         # Calculate all 200 descriptors for each molecule\n",
        "#         descriptors = calc.CalcDescriptors(mol)\n",
        "#         Mol_descriptors.append(descriptors)\n",
        "#     return Mol_descriptors,desc_names"
      ],
      "metadata": {
        "id": "aVrTGrO20QOx"
      },
      "execution_count": null,
      "outputs": []
    },
    {
      "cell_type": "code",
      "source": [
        "# #function calling\n",
        "\n",
        "# Mol_descriptors,desc_names = RDkit_descriptors(df['canonical'])"
      ],
      "metadata": {
        "id": "nWSEt4YL0zzD"
      },
      "execution_count": null,
      "outputs": []
    },
    {
      "cell_type": "code",
      "source": [
        "# descriptor_200 = pd.DataFrame(Mol_descriptors,columns=desc_names)"
      ],
      "metadata": {
        "id": "Avj3hheL15nr"
      },
      "execution_count": null,
      "outputs": []
    },
    {
      "cell_type": "code",
      "source": [
        "# descriptor_200"
      ],
      "metadata": {
        "id": "OEEWX41M2ISC"
      },
      "execution_count": null,
      "outputs": []
    },
    {
      "cell_type": "code",
      "source": [
        "# descriptor_200.to_excel('/content/drive/MyDrive/descriptor_200.xlsx', index=False)"
      ],
      "metadata": {
        "id": "aM7sHQGv7GAk"
      },
      "execution_count": null,
      "outputs": []
    },
    {
      "cell_type": "code",
      "source": [
        "# df.to_excel('/content/drive/MyDrive/bcrabl_ic50_cleaned.xlsx', index=False)"
      ],
      "metadata": {
        "id": "C7kHbRoJ8uUd"
      },
      "execution_count": null,
      "outputs": []
    },
    {
      "cell_type": "markdown",
      "source": [
        "## Train-test split"
      ],
      "metadata": {
        "id": "h4q1FyxCM2Xs"
      }
    },
    {
      "cell_type": "code",
      "source": [
        "import pandas as pd\n",
        "from sklearn.model_selection import train_test_split\n",
        "\n",
        "df = pd.read_csv('./5_bcrabl_ic50_cleaned.csv')\n",
        "\n",
        "print(df.head())\n",
        "print(df.info())\n",
        "print(df.describe())"
      ],
      "metadata": {
        "colab": {
          "base_uri": "https://localhost:8080/"
        },
        "collapsed": true,
        "id": "8kmfYslfNBkV",
        "outputId": "d39f434b-a07b-4868-e137-1bb50ac98ef8"
      },
      "execution_count": null,
      "outputs": [
        {
          "output_type": "stream",
          "name": "stdout",
          "text": [
            "              id      mw  logp  \\\n",
            "0  CHEMBL3929105  581.37  2.51   \n",
            "1  CHEMBL3973189  500.32  3.06   \n",
            "2  CHEMBL3953682  530.71  3.33   \n",
            "3     CHEMBL1421  488.02  3.31   \n",
            "4  CHEMBL2375973  512.61  5.26   \n",
            "\n",
            "                                              smiles      ic50 unit  \\\n",
            "0  O=[N+]([O-])c1cc(C(F)(F)F)ccc1S(=O)(=O)N1CCN(c...  0.000021   nM   \n",
            "1  O=C(c1ccc(C(F)(F)F)cc1)N1CCN(c2nc(N3CCOCC3)ncc...  0.000024   nM   \n",
            "2  O=[N+]([O-])c1cc(C(F)(F)F)ccc1S(=O)(=O)N1CCN(c...  0.000023   nM   \n",
            "3  Cc1nc(Nc2ncc(C(=O)Nc3c(C)cccc3Cl)s2)cc(N2CCN(C...  1.000000   nM   \n",
            "4  CCN(CC)CCOc1ccc(NC(=O)c2ccc(OC)c(Nc3nccc(-c4cc...  1.480000   nM   \n",
            "\n",
            "                                           canonical  MaxEStateIndex  \\\n",
            "0  O=[N+]([O-])c1cc(C(F)(F)F)ccc1S(=O)(=O)N1CCN(c...       14.079246   \n",
            "1  O=C(c1ccc(C(F)(F)F)cc1)N1CCN(c2nc(N3CCOCC3)ncc...       13.771746   \n",
            "2  O=[N+]([O-])c1cc(C(F)(F)F)ccc1S(=O)(=O)N1CCN(c...       13.759629   \n",
            "3  Cc1nc(Nc2ncc(C(=O)Nc3c(C)cccc3Cl)s2)cc(N2CCN(C...       13.560621   \n",
            "4  CCN(CC)CCOc1ccc(NC(=O)c2ccc(OC)c(Nc3nccc(-c4cc...       14.133549   \n",
            "\n",
            "   MinEStateIndex  MaxAbsEStateIndex  MinAbsEStateIndex       qed    MolWt  \\\n",
            "0       -6.784948          14.079246           0.483120  0.387450  581.371   \n",
            "1       -5.516138          13.771746           0.404041  0.646224  500.319   \n",
            "2       -6.532483          13.759629           0.364774  0.338777  530.710   \n",
            "3       -4.242648          13.560621           0.031271  0.465717  488.017   \n",
            "4       -4.575627          14.133549           0.169874  0.264968  512.614   \n",
            "\n",
            "   HeavyAtomMolWt  ExactMolWt  NumValenceElectrons  NumRadicalElectrons  \\\n",
            "0         561.211  580.035136                  190                    0   \n",
            "1         479.151  499.083072                  166                    0   \n",
            "2         518.614  528.943399                  162                    0   \n",
            "3         461.809  487.155722                  174                    0   \n",
            "4         480.358  512.253589                  196                    0   \n",
            "\n",
            "   MaxPartialCharge  MinPartialCharge  MaxAbsPartialCharge  \\\n",
            "0          0.416162         -0.377774             0.416162   \n",
            "1          0.415910         -0.377774             0.415910   \n",
            "2          0.416162         -0.352887             0.416162   \n",
            "3          0.267000         -0.395045             0.395045   \n",
            "4          0.255240         -0.494578             0.494578   \n",
            "\n",
            "   MinAbsPartialCharge  FpDensityMorgan1  FpDensityMorgan2  FpDensityMorgan3  \\\n",
            "0             0.377774          1.142857          1.800000          2.400000   \n",
            "1             0.377774          1.064516          1.709677          2.322581   \n",
            "2             0.352887          1.300000          1.933333          2.500000   \n",
            "3             0.267000          1.424242          2.303030          3.090909   \n",
            "4             0.255240          1.131579          2.000000          2.815789   \n",
            "\n",
            "   BCUT2D_MWHI  BCUT2D_MWLOW  BCUT2D_CHGHI  BCUT2D_CHGLO  BCUT2D_LOGPHI  \\\n",
            "0    12.995510     -0.180628  1.939150e-16     -2.714907   4.192000e-01   \n",
            "1    11.415335     -0.180632  1.299980e-16     -2.725223   8.471608e-02   \n",
            "2    14.628720     -0.180628  8.132580e-01     -2.713361   9.338623e-01   \n",
            "3    10.987884     -0.245940  1.477380e-16     -2.766908   1.326670e-16   \n",
            "4    10.814722     -0.249006 -1.683460e-17     -2.674731   2.343580e-16   \n",
            "\n",
            "   BCUT2D_LOGPLOW  BCUT2D_MRHI  BCUT2D_MRLOW  BalabanJ      BertzCT  \\\n",
            "0       -2.867661     2.463725     -1.005683  2.093917  2058.736099   \n",
            "1       -2.869525     1.966588     -1.005683  2.015918  1779.087847   \n",
            "2       -2.867253     3.556462     -0.967498  2.500077  1606.843089   \n",
            "3       -2.904258     1.826285     -1.061503  1.946002  2151.032424   \n",
            "4       -2.768154     1.548070     -1.099230  1.951789  2703.442265   \n",
            "\n",
            "        Chi0      Chi0n      Chi0v       Chi1      Chi1n      Chi1v     Chi2n  \\\n",
            "0  43.204224  36.144629  18.547122  24.146295  18.406246  10.639307  5.872870   \n",
            "1  40.704224  35.564422  16.150419  22.902278  18.275190   8.568188  5.309148   \n",
            "2  32.919767  25.667132  16.825554  18.605855  13.016159   9.627185  4.976698   \n",
            "3  45.927839  41.733205  17.305630  26.293525  21.135863   9.527649  5.530042   \n",
            "4  54.469291  50.408026  18.408026  31.326723  25.571936   9.677509  6.180655   \n",
            "\n",
            "      Chi2v     Chi3n     Chi3v     Chi4n     Chi4v  HallKierAlpha  \\\n",
            "0  8.389398  3.735607  5.742176  2.262364  3.671498          -2.56   \n",
            "1  6.102146  3.357684  3.889643  1.992759  2.347398          -2.40   \n",
            "2  7.831287  3.103166  5.278766  1.860762  3.392208          -2.03   \n",
            "3  6.885528  3.423708  4.532386  2.103214  2.917422          -2.79   \n",
            "4  6.180655  3.869421  3.869421  2.301165  2.301165          -4.50   \n",
            "\n",
            "            Ipc     Kappa1     Kappa2    Kappa3   LabuteASA  PEOE_VSA1  \\\n",
            "0  4.872206e+10  10.432766   9.829594  5.339189  234.470972  14.536682   \n",
            "1  1.569604e+10   7.874314   8.992916  4.925426  214.988655  19.436592   \n",
            "2  1.983169e+08  11.549852   8.244868  4.502367  198.207158   4.899910   \n",
            "3  5.643240e+11   7.352308  10.429650  5.772233  237.733977  20.628345   \n",
            "4  6.000410e+13   7.541025  13.161157  7.043537  267.504506  24.993262   \n",
            "\n",
            "   PEOE_VSA10  PEOE_VSA11  PEOE_VSA12  PEOE_VSA13  PEOE_VSA14  PEOE_VSA2  \\\n",
            "0    5.817863    4.895483   15.971630    5.687386    6.176299  10.114318   \n",
            "1    5.817863    0.000000    5.948339    5.907180    6.176299   4.794537   \n",
            "2    5.817863    4.895483   15.306877    5.687386    6.176299  10.114318   \n",
            "3   22.337277    7.955243    1.431200    5.907180    0.000000   9.694447   \n",
            "4   18.058009    2.823684    5.948339    5.907180    0.000000   9.778516   \n",
            "\n",
            "   PEOE_VSA3  PEOE_VSA4  PEOE_VSA5  PEOE_VSA6  PEOE_VSA7  PEOE_VSA8  \\\n",
            "0  13.401776  22.460440        0.0   0.000000  28.014781  56.679506   \n",
            "1   4.983979  18.155224        0.0   0.000000  40.099619  50.717505   \n",
            "2  13.401776  22.460440        0.0   0.000000  39.615721  43.685787   \n",
            "3  14.951936   0.000000        0.0  35.022563  25.309654  54.975820   \n",
            "4   9.967957   0.000000        0.0  13.703784  73.417906  58.278937   \n",
            "\n",
            "   PEOE_VSA9   SMR_VSA1  SMR_VSA10  SMR_VSA2   SMR_VSA3  SMR_VSA4   SMR_VSA5  \\\n",
            "0  50.009589  58.664387  43.406823    0.0000  14.273173       0.0  11.071782   \n",
            "1  51.940071  51.488575  33.603326    0.0000  14.867867       0.0   6.176299   \n",
            "2  25.925551  42.961456  49.059424    0.0000  14.273173       0.0  11.071782   \n",
            "3  38.520244  44.254476  51.299576    1.4312  19.851845       0.0  13.703784   \n",
            "4  43.092921  58.214704  23.230292    0.0000  19.851845       0.0  13.703784   \n",
            "\n",
            "    SMR_VSA6   SMR_VSA7  SMR_VSA8   SMR_VSA9  SlogP_VSA1  SlogP_VSA10  \\\n",
            "0  61.898948  44.450641         0   0.000000    9.799819    30.624833   \n",
            "1  61.898948  45.942193         0   0.000000    9.799819    24.937447   \n",
            "2  30.887348  49.734227         0   0.000000    4.899910    24.676494   \n",
            "3  54.562820  51.630207         0   0.000000   15.519536    22.454670   \n",
            "4  43.707143  84.506324         0  22.756403   20.093353    17.323112   \n",
            "\n",
            "   SlogP_VSA11  SlogP_VSA12  SlogP_VSA2  SlogP_VSA3  SlogP_VSA4  SlogP_VSA5  \\\n",
            "0     0.000000    15.929944   79.713410   20.936453   10.114318   32.978623   \n",
            "1     0.000000    15.929944   72.874175   10.913161    0.000000   44.707370   \n",
            "2     0.000000    27.530884   53.601720   16.199590   10.114318   22.012554   \n",
            "3     0.000000    22.937726   71.342317    0.000000   13.703784   52.586987   \n",
            "4    11.499024     0.000000   58.846542    0.000000    0.000000   65.184530   \n",
            "\n",
            "   SlogP_VSA6  SlogP_VSA7  SlogP_VSA8  SlogP_VSA9    TPSA  EState_VSA1  \\\n",
            "0   33.668354    0.000000    0.000000           0  122.01   144.012459   \n",
            "1   34.815290    0.000000    0.000000           0   61.80   136.590731   \n",
            "2   33.668354    5.283586    0.000000           0  109.54   107.436197   \n",
            "3   30.342570    7.846317    0.000000           0  106.51   142.538944   \n",
            "4   78.942873    2.823684   11.257379           0  101.50   187.494043   \n",
            "\n",
            "   EState_VSA10  EState_VSA11  EState_VSA2  EState_VSA3  EState_VSA4  \\\n",
            "0     31.703360           0.0     0.000000          0.0          0.0   \n",
            "1     17.965782           0.0     0.000000          0.0          0.0   \n",
            "2     31.703360           0.0     4.899910          0.0          0.0   \n",
            "3      4.794537           0.0    21.956413          0.0          0.0   \n",
            "4      4.794537           0.0     5.309813          0.0          0.0   \n",
            "\n",
            "   EState_VSA5  EState_VSA6  EState_VSA7  EState_VSA8  EState_VSA9  \\\n",
            "0          0.0          0.0          0.0    30.634764    27.415171   \n",
            "1          0.0          0.0          0.0    30.634764    28.785930   \n",
            "2          0.0          0.0          0.0    25.897901    28.050043   \n",
            "3          0.0          0.0          0.0    20.060744    47.383271   \n",
            "4          0.0          0.0          0.0    14.951936    53.420167   \n",
            "\n",
            "   VSA_EState1  VSA_EState10  VSA_EState2  VSA_EState3  VSA_EState4  \\\n",
            "0   235.867903      2.642833    13.294811    11.930448    -4.977104   \n",
            "1   217.123788      2.717818    19.129779     0.000000    -3.873697   \n",
            "2   163.754717      8.398302    14.038462    10.886168    -4.750935   \n",
            "3   212.464155      6.106607    22.002070     1.580943    -2.139408   \n",
            "4   269.309173      0.000000    23.868176    -0.710080    -5.863319   \n",
            "\n",
            "   VSA_EState5  VSA_EState6  VSA_EState7  VSA_EState8  VSA_EState9  \\\n",
            "0    -3.194636    -6.856178    -7.138795   -33.701002    -6.784948   \n",
            "1    -5.284592    -7.298269    -6.739431   -31.942062     0.000000   \n",
            "2    -1.094094    -6.504884    -6.539815   -16.960992    -6.532483   \n",
            "3    -5.895385    -4.454566    -1.071120   -31.815518     0.000000   \n",
            "4    -6.219901   -13.501302    -2.860898   -26.033756    -3.571426   \n",
            "\n",
            "   FractionCSP3  HeavyAtomCount  NHOHCount  NOCount  NumAliphaticCarbocycles  \\\n",
            "0      0.473684              35          0       11                        0   \n",
            "1      0.450000              31          0        7                        0   \n",
            "2      0.333333              30          0        9                        0   \n",
            "3      0.363636              33          3        9                        0   \n",
            "4      0.241379              38          2        9                        0   \n",
            "\n",
            "   NumAliphaticHeterocycles  NumAliphaticRings  NumAromaticCarbocycles  \\\n",
            "0                         2                  2                       1   \n",
            "1                         2                  2                       1   \n",
            "2                         1                  1                       1   \n",
            "3                         1                  1                       1   \n",
            "4                         0                  0                       2   \n",
            "\n",
            "   NumAromaticHeterocycles  NumAromaticRings  NumHAcceptors  NumHDonors  \\\n",
            "0                        1                 2              9           0   \n",
            "1                        1                 2              6           0   \n",
            "2                        1                 2              7           0   \n",
            "3                        2                 3              9           3   \n",
            "4                        2                 4              8           2   \n",
            "\n",
            "   NumHeteroatoms  NumRotatableBonds  NumSaturatedCarbocycles  \\\n",
            "0              16                  5                        0   \n",
            "1              11                  3                        0   \n",
            "2              15                  4                        0   \n",
            "3              11                 10                        0   \n",
            "4               9                 15                        0   \n",
            "\n",
            "   NumSaturatedHeterocycles  NumSaturatedRings  RingCount  MolLogP     MolMR  \\\n",
            "0                         2                  2          4  2.51360  121.8342   \n",
            "1                         2                  2          4  3.05690  112.3245   \n",
            "2                         1                  1          3  3.33040  103.8122   \n",
            "3                         1                  1          4  3.31354  132.0467   \n",
            "4                         0                  0          4  5.26370  149.2179   \n",
            "\n",
            "   fr_Al_COO  fr_Al_OH  fr_Al_OH_noTert  fr_ArN  fr_Ar_COO  fr_Ar_N  fr_Ar_NH  \\\n",
            "0          0         0                0       0          0        2         0   \n",
            "1          0         0                0       0          0        2         0   \n",
            "2          0         0                0       0          0        2         0   \n",
            "3          0         1                0       0          0        3         0   \n",
            "4          0         0                0       0          0        3         0   \n",
            "\n",
            "   fr_Ar_OH  fr_COO  fr_COO2  fr_C_O  fr_C_O_noCOO  fr_C_S  fr_HOCCN  \\\n",
            "0         0       0        0       0             0       0         0   \n",
            "1         0       0        0       1             1       0         0   \n",
            "2         0       0        0       0             0       0         0   \n",
            "3         0       0        0       1             1       0         1   \n",
            "4         0       0        0       1             1       0         0   \n",
            "\n",
            "   fr_Imine  fr_NH0  fr_NH1  fr_NH2  fr_N_O  fr_Ndealkylation1  \\\n",
            "0         0       6       0       0       0                  0   \n",
            "1         0       5       0       0       0                  0   \n",
            "2         0       5       0       0       0                  0   \n",
            "3         0       5       2       0       0                  0   \n",
            "4         0       4       2       0       0                  1   \n",
            "\n",
            "   fr_Ndealkylation2  fr_Nhpyrrole  fr_SH  fr_aldehyde  fr_alkyl_carbamate  \\\n",
            "0                  0             0      0            0                   0   \n",
            "1                  0             0      0            0                   0   \n",
            "2                  0             0      0            0                   0   \n",
            "3                  0             0      0            0                   0   \n",
            "4                  0             0      0            0                   0   \n",
            "\n",
            "   fr_alkyl_halide  fr_allylic_oxid  fr_amide  fr_amidine  fr_aniline  \\\n",
            "0                3                0         0           0           2   \n",
            "1                3                0         1           0           2   \n",
            "2                3                0         0           0           1   \n",
            "3                0                0         1           0           4   \n",
            "4                0                0         1           0           3   \n",
            "\n",
            "   fr_aryl_methyl  fr_azide  fr_azo  fr_barbitur  fr_benzene  \\\n",
            "0               0         0       0            0           1   \n",
            "1               0         0       0            0           1   \n",
            "2               0         0       0            0           1   \n",
            "3               1         0       0            0           1   \n",
            "4               0         0       0            0           2   \n",
            "\n",
            "   fr_benzodiazepine  fr_bicyclic  fr_diazo  fr_dihydropyridine  fr_epoxide  \\\n",
            "0                  0            0         0                   0           0   \n",
            "1                  0            0         0                   0           0   \n",
            "2                  0            0         0                   0           0   \n",
            "3                  0            0         0                   0           0   \n",
            "4                  0            0         0                   0           0   \n",
            "\n",
            "   fr_ester  fr_ether  fr_furan  fr_guanido  fr_halogen  fr_hdrzine  \\\n",
            "0         0         1         0           0           4           0   \n",
            "1         0         1         0           0           4           0   \n",
            "2         0         0         0           0           5           0   \n",
            "3         0         0         0           0           1           0   \n",
            "4         0         2         0           0           0           0   \n",
            "\n",
            "   fr_hdrzone  fr_imidazole  fr_imide  fr_isocyan  fr_isothiocyan  fr_ketone  \\\n",
            "0           0             0         0           0               0          0   \n",
            "1           0             0         0           0               0          0   \n",
            "2           0             0         0           0               0          0   \n",
            "3           0             0         0           0               0          0   \n",
            "4           0             0         0           0               0          0   \n",
            "\n",
            "   fr_ketone_Topliss  fr_lactam  fr_lactone  fr_methoxy  fr_morpholine  \\\n",
            "0                  0          0           0           0              1   \n",
            "1                  0          0           0           0              1   \n",
            "2                  0          0           0           0              0   \n",
            "3                  0          0           0           0              0   \n",
            "4                  0          0           0           1              0   \n",
            "\n",
            "   fr_nitrile  fr_nitro  fr_nitro_arom  fr_nitro_arom_nonortho  fr_nitroso  \\\n",
            "0           0         1              1                       0           0   \n",
            "1           0         0              0                       0           0   \n",
            "2           0         1              1                       0           0   \n",
            "3           0         0              0                       0           0   \n",
            "4           0         0              0                       0           0   \n",
            "\n",
            "   fr_oxazole  fr_oxime  fr_para_hydroxylation  fr_phenol  \\\n",
            "0           0         0                      0          0   \n",
            "1           0         0                      0          0   \n",
            "2           0         0                      0          0   \n",
            "3           0         0                      1          0   \n",
            "4           0         0                      0          0   \n",
            "\n",
            "   fr_phenol_noOrthoHbond  fr_phos_acid  fr_phos_ester  fr_piperdine  \\\n",
            "0                       0             0              0             0   \n",
            "1                       0             0              0             0   \n",
            "2                       0             0              0             0   \n",
            "3                       0             0              0             0   \n",
            "4                       0             0              0             0   \n",
            "\n",
            "   fr_piperzine  fr_priamide  fr_prisulfonamd  fr_pyridine  fr_quatN  \\\n",
            "0             1            0                0            0         0   \n",
            "1             1            0                0            0         0   \n",
            "2             1            0                0            0         0   \n",
            "3             1            0                0            0         0   \n",
            "4             0            0                0            1         0   \n",
            "\n",
            "   fr_sulfide  fr_sulfonamd  fr_sulfone  fr_term_acetylene  fr_tetrazole  \\\n",
            "0           0             1           0                  0             0   \n",
            "1           0             0           0                  0             0   \n",
            "2           0             1           0                  0             0   \n",
            "3           0             0           0                  0             0   \n",
            "4           0             0           0                  0             0   \n",
            "\n",
            "   fr_thiazole  fr_thiocyan  fr_thiophene  fr_unbrch_alkane  fr_urea  \n",
            "0            0            0             0                 0        0  \n",
            "1            0            0             0                 0        0  \n",
            "2            0            0             0                 0        0  \n",
            "3            1            0             0                 0        0  \n",
            "4            0            0             0                 0        0  \n",
            "<class 'pandas.core.frame.DataFrame'>\n",
            "RangeIndex: 596 entries, 0 to 595\n",
            "Columns: 215 entries, id to fr_urea\n",
            "dtypes: float64(105), int64(106), object(4)\n",
            "memory usage: 1001.2+ KB\n",
            "None\n",
            "               mw        logp          ic50  MaxEStateIndex  MinEStateIndex  \\\n",
            "count  596.000000  596.000000  5.960000e+02      596.000000      596.000000   \n",
            "mean   484.332953    4.636795  3.128155e+04       13.848531       -4.737880   \n",
            "std     79.457039    1.235743  1.373630e+05        1.626182        1.232878   \n",
            "min    228.250000    0.690000  2.060000e-05        8.184983       -6.784948   \n",
            "25%    439.520000    3.782500  1.201075e+02       13.734370       -5.703647   \n",
            "50%    500.520000    4.650000  1.609310e+03       14.153752       -4.478305   \n",
            "75%    535.660000    5.342500  1.000000e+04       14.616302       -4.068136   \n",
            "max    695.610000    8.470000  2.550000e+06       16.640890       -0.717688   \n",
            "\n",
            "       MaxAbsEStateIndex  MinAbsEStateIndex         qed       MolWt  \\\n",
            "count         596.000000         596.000000  596.000000  596.000000   \n",
            "mean           13.848531           0.280945    0.418243  484.332702   \n",
            "std             1.626182           0.256758    0.154798   79.457160   \n",
            "min             8.184983           0.000572    0.099455  228.247000   \n",
            "25%            13.734370           0.087502    0.306842  439.519000   \n",
            "50%            14.153752           0.181239    0.387757  500.524000   \n",
            "75%            14.616302           0.414041    0.508950  535.655750   \n",
            "max            16.640890           1.407554    0.856368  695.609000   \n",
            "\n",
            "       HeavyAtomMolWt  ExactMolWt  NumValenceElectrons  NumRadicalElectrons  \\\n",
            "count      596.000000  596.000000           596.000000                596.0   \n",
            "mean       460.734349  483.748745           175.986577                  0.0   \n",
            "std         76.178813   79.336836            30.172610                  0.0   \n",
            "min        216.151000  228.078644            86.000000                  0.0   \n",
            "25%        416.115250  439.200825           158.000000                  0.0   \n",
            "50%        476.355500  500.157244           180.000000                  0.0   \n",
            "75%        510.918500  535.147919           198.000000                  0.0   \n",
            "max        661.337000  695.186957           250.000000                  0.0   \n",
            "\n",
            "       MaxPartialCharge  MinPartialCharge  MaxAbsPartialCharge  \\\n",
            "count        596.000000        596.000000           596.000000   \n",
            "mean           0.327776         -0.387113             0.412617   \n",
            "std            0.082421          0.065105             0.056641   \n",
            "min            0.122653         -0.611068             0.270976   \n",
            "25%            0.255130         -0.443672             0.377655   \n",
            "50%            0.304877         -0.368966             0.416062   \n",
            "75%            0.416062         -0.331280             0.453052   \n",
            "max            0.572596         -0.267433             0.611068   \n",
            "\n",
            "       MinAbsPartialCharge  FpDensityMorgan1  FpDensityMorgan2  \\\n",
            "count           596.000000        596.000000        596.000000   \n",
            "mean              0.302272          1.137133          1.914041   \n",
            "std               0.059067          0.155058          0.233851   \n",
            "min               0.122653          0.523810          0.952381   \n",
            "25%               0.255130          1.058824          1.781250   \n",
            "50%               0.299867          1.156250          1.960648   \n",
            "75%               0.342163          1.219512          2.068182   \n",
            "max               0.428230          1.600000          2.521739   \n",
            "\n",
            "       FpDensityMorgan3   BCUT2D_MWHI  BCUT2D_MWLOW  BCUT2D_CHGHI  \\\n",
            "count        596.000000  5.960000e+02    596.000000  5.960000e+02   \n",
            "mean           2.653397  1.147379e+01     -0.220961  2.231525e-01   \n",
            "std            0.305988  1.532870e+00      0.040803  2.634523e-01   \n",
            "min            1.428571 -8.084950e-16     -0.249223 -2.867640e-16   \n",
            "25%            2.456494  1.107461e+01     -0.245942  9.291398e-17   \n",
            "50%            2.723611  1.148561e+01     -0.243766  1.252486e-02   \n",
            "75%            2.857143  1.204003e+01     -0.180632  4.985719e-01   \n",
            "max            3.347826  1.479216e+01     -0.088909  1.009531e+00   \n",
            "\n",
            "       BCUT2D_CHGLO  BCUT2D_LOGPHI  BCUT2D_LOGPLOW   BCUT2D_MRHI  \\\n",
            "count    596.000000   5.960000e+02      596.000000  5.960000e+02   \n",
            "mean      -2.587834   2.997714e-01       -2.672520  2.275937e+00   \n",
            "std        0.179747   2.785158e-01        0.246275  7.325416e-01   \n",
            "min       -3.000536  -2.015220e-16       -2.963545 -2.367180e-16   \n",
            "25%       -2.733735   3.179540e-16       -2.870190  1.870384e+00   \n",
            "50%       -2.646364   2.626063e-01       -2.773032  2.364935e+00   \n",
            "75%       -2.435403   5.494324e-01       -2.376816  2.762806e+00   \n",
            "max       -2.153362   9.844115e-01       -2.042310  4.223585e+00   \n",
            "\n",
            "       BCUT2D_MRLOW    BalabanJ      BertzCT        Chi0       Chi0n  \\\n",
            "count    596.000000  596.000000   596.000000  596.000000  596.000000   \n",
            "mean      -0.981332    1.959439  2322.181101   44.597155   39.857412   \n",
            "std        0.129842    0.381868   476.002627    8.713597    8.376536   \n",
            "min       -1.197704    0.000001   958.643628   22.204224   20.224745   \n",
            "25%       -1.072153    1.735020  2010.840367   38.082001   33.262357   \n",
            "50%       -0.998716    1.910435  2403.814357   45.172362   40.446010   \n",
            "75%       -0.944849    2.041644  2669.179338   51.281613   46.089480   \n",
            "max       -0.409291    4.353912  3591.177553   68.298082   63.107627   \n",
            "\n",
            "            Chi0v        Chi1       Chi1n       Chi1v       Chi2n       Chi2v  \\\n",
            "count  596.000000  596.000000  596.000000  596.000000  596.000000  596.000000   \n",
            "mean    17.037203   25.969993   20.471897    9.288035    6.094553    6.514125   \n",
            "std      2.631953    4.731201    4.303010    1.461800    1.119932    1.150265   \n",
            "min      8.224745   13.058420   10.087117    4.362372    2.794098    2.862372   \n",
            "25%     15.653210   22.514109   17.239837    8.565698    5.383511    5.912516   \n",
            "50%     17.555125   26.469451   20.855690    9.596835    6.225553    6.691766   \n",
            "75%     18.781386   29.372051   23.612601   10.234966    6.867255    7.290258   \n",
            "max     23.574206   37.752478   31.755440   13.085757    8.989722    9.763119   \n",
            "\n",
            "            Chi3n       Chi3v       Chi4n       Chi4v  HallKierAlpha  \\\n",
            "count  596.000000  596.000000  596.000000  596.000000     596.000000   \n",
            "mean     3.867204    4.172467    2.401558    2.623380      -3.777500   \n",
            "std      0.747566    0.779477    0.514206    0.543582       0.822486   \n",
            "min      1.572294    1.572294    0.788841    0.788841      -5.430000   \n",
            "25%      3.374906    3.761093    2.059061    2.312278      -4.405000   \n",
            "50%      3.962922    4.288054    2.436344    2.681045      -3.920000   \n",
            "75%      4.380527    4.652807    2.758615    2.941456      -3.390000   \n",
            "max      6.385278    6.749195    5.159955    5.199759      -0.440000   \n",
            "\n",
            "                Ipc      Kappa1      Kappa2      Kappa3   LabuteASA  \\\n",
            "count  5.960000e+02  596.000000  596.000000  596.000000  596.000000   \n",
            "mean   4.749606e+16    8.251205    9.781777    5.302687  233.471372   \n",
            "std    1.123032e+18    1.820628    1.860010    1.309790   38.160830   \n",
            "min    7.375467e+05    2.756559    4.209043    1.904500  116.031137   \n",
            "25%    1.341736e+10    6.874016    8.662346    4.374394  211.816493   \n",
            "50%    7.005145e+11    8.235977    9.865458    5.349099  237.691682   \n",
            "75%    1.208002e+13    9.644066   11.081326    6.112119  261.322284   \n",
            "max    2.740970e+19   13.322899   15.998598   10.266067  327.381636   \n",
            "\n",
            "        PEOE_VSA1  PEOE_VSA10  PEOE_VSA11  PEOE_VSA12  PEOE_VSA13  PEOE_VSA14  \\\n",
            "count  596.000000  596.000000  596.000000  596.000000  596.000000  596.000000   \n",
            "mean    14.316391    7.663436    5.422702    3.724528    5.756415    3.379473   \n",
            "std      5.629007    7.459807    4.886159    4.675678    4.080377    3.613188   \n",
            "min      0.000000    0.000000    0.000000    0.000000    0.000000    0.000000   \n",
            "25%     10.209723    0.000000    1.411842    0.000000    1.431200    0.000000   \n",
            "50%     15.109633    5.817221    4.235526    0.000000    5.907180    5.687386   \n",
            "75%     16.339344   11.835755    8.470861    5.948339    7.118586    6.176299   \n",
            "max     35.658741   31.447667   31.439867   16.505602   16.025307   17.832990   \n",
            "\n",
            "        PEOE_VSA2   PEOE_VSA3   PEOE_VSA4   PEOE_VSA5   PEOE_VSA6   PEOE_VSA7  \\\n",
            "count  596.000000  596.000000  596.000000  596.000000  596.000000  596.000000   \n",
            "mean    10.392876    8.348028    7.743456    1.960321   23.190828   52.651102   \n",
            "std      5.253730    5.691068    7.302288    3.795817   13.010120   13.100104   \n",
            "min      0.000000    0.000000    0.000000    0.000000    0.000000   18.581697   \n",
            "25%      9.589074    4.681803    0.000000    0.000000   12.894311   45.658140   \n",
            "50%      9.778516    9.722149    5.098682    0.000000   23.685777   53.423834   \n",
            "75%     14.679014   13.401776   13.171245    0.000000   31.021567   60.424187   \n",
            "max     25.410685   28.225127   35.631685   16.715190   68.411128  128.462031   \n",
            "\n",
            "        PEOE_VSA8   PEOE_VSA9    SMR_VSA1   SMR_VSA10    SMR_VSA2    SMR_VSA3  \\\n",
            "count  596.000000  596.000000  596.000000  596.000000  596.000000  596.000000   \n",
            "mean    52.269849   35.546108   47.763972   28.899873    0.248257   18.621589   \n",
            "std     22.694110   10.042754   11.506348   13.720991    0.770954    8.985640   \n",
            "min      6.042419   11.326512   15.119428    0.000000    0.000000    0.000000   \n",
            "25%     36.375820   29.019067   40.633966   17.402377    0.000000   14.783798   \n",
            "50%     49.035257   35.853038   47.525347   27.623713    0.000000   19.760801   \n",
            "75%     68.423462   42.788883   56.388105   37.719437    0.000000   20.835866   \n",
            "max    110.277820   70.954943   96.817243   74.385717    5.261892   44.932700   \n",
            "\n",
            "         SMR_VSA4    SMR_VSA5    SMR_VSA6    SMR_VSA7  SMR_VSA8    SMR_VSA9  \\\n",
            "count  596.000000  596.000000  596.000000  596.000000     596.0  596.000000   \n",
            "mean     0.521522   16.195959   26.912506   80.847980       0.0   12.353857   \n",
            "std      2.086300   14.288957   16.750090   21.071102       0.0    7.930704   \n",
            "min      0.000000    0.000000    0.000000   10.645615       0.0    0.000000   \n",
            "25%      0.000000    5.704957   11.029530   66.466606       0.0   11.126903   \n",
            "50%      0.000000   13.348752   25.987439   83.069423       0.0   11.257379   \n",
            "75%      0.000000   25.897975   38.422149   95.763704       0.0   16.944766   \n",
            "max     17.681873   69.798385   65.404829  128.936536       0.0   39.632818   \n",
            "\n",
            "       SlogP_VSA1  SlogP_VSA10  SlogP_VSA11  SlogP_VSA12  SlogP_VSA2  \\\n",
            "count  596.000000   596.000000   596.000000   596.000000  596.000000   \n",
            "mean    10.162955    16.573013     2.047755     7.005473   47.330039   \n",
            "std      5.739879     8.924941     4.665629    10.806704   19.497644   \n",
            "min      0.000000     0.000000     0.000000     0.000000   10.706556   \n",
            "25%      5.309813    10.077801     0.000000     0.000000   27.897068   \n",
            "50%     10.209723    17.323112     0.000000     0.000000   49.402154   \n",
            "75%     15.356490    24.546018     0.000000    11.600940   63.622200   \n",
            "max     25.566213    46.794143    28.747559    62.333703  102.750023   \n",
            "\n",
            "       SlogP_VSA3  SlogP_VSA4  SlogP_VSA5  SlogP_VSA6  SlogP_VSA7  SlogP_VSA8  \\\n",
            "count  596.000000  596.000000  596.000000  596.000000  596.000000  596.000000   \n",
            "mean     7.686134    5.452543   54.788403   63.915318    3.918345   13.485535   \n",
            "std      7.100612    6.404650   19.375632   16.524587    3.512968    8.394884   \n",
            "min      0.000000    0.000000   12.336827   10.645615    0.000000    0.000000   \n",
            "25%      0.000000    0.000000   42.859036   54.903674    1.411842   10.902925   \n",
            "50%      6.176299    5.817221   52.930021   66.466606    2.823684   11.257379   \n",
            "75%     12.673158    6.851892   64.696539   78.812396    5.647368   21.931971   \n",
            "max     33.331063   31.385657  139.317327  103.112548   20.481963   43.611700   \n",
            "\n",
            "       SlogP_VSA9        TPSA  EState_VSA1  EState_VSA10  EState_VSA11  \\\n",
            "count       596.0  596.000000   596.000000    596.000000    596.000000   \n",
            "mean          0.0   88.135101   159.447936     12.122234      1.828918   \n",
            "std           0.0   23.542629    31.025662      8.314201      4.353934   \n",
            "min           0.0   27.690000    68.246934      0.000000      0.000000   \n",
            "25%           0.0   66.805000   137.680319      4.794537      0.000000   \n",
            "50%           0.0   87.830000   161.742019      9.589074      0.000000   \n",
            "75%           0.0  104.100000   183.754762     17.965782      0.000000   \n",
            "max           0.0  166.280000   226.897476     37.265053     17.561660   \n",
            "\n",
            "       EState_VSA2  EState_VSA3  EState_VSA4  EState_VSA5  EState_VSA6  \\\n",
            "count   596.000000   596.000000   596.000000   596.000000   596.000000   \n",
            "mean      6.584714     1.308157     0.060633     0.116541     0.010183   \n",
            "std       6.254352     3.020367     0.978185     1.396239     0.248605   \n",
            "min       0.000000     0.000000     0.000000     0.000000     0.000000   \n",
            "25%       0.000000     0.000000     0.000000     0.000000     0.000000   \n",
            "50%       5.309813     0.000000     0.000000     0.000000     0.000000   \n",
            "75%      10.619627     0.000000     0.000000     0.000000     0.000000   \n",
            "max      31.189989    15.903886    22.590871    22.590871     6.069221   \n",
            "\n",
            "       EState_VSA7  EState_VSA8  EState_VSA9  VSA_EState1  VSA_EState10  \\\n",
            "count   596.000000   596.000000   596.000000   596.000000    596.000000   \n",
            "mean      0.198672    14.895032    35.792494   216.786398      1.925303   \n",
            "std       1.442646     7.739295     9.227380    59.321428      3.536374   \n",
            "min       0.000000     0.000000    15.119428    82.775267     -1.084524   \n",
            "25%       0.000000     9.967957    28.868097   173.267201      0.000000   \n",
            "50%       0.000000    14.951936    35.680806   215.923550      0.000000   \n",
            "75%       0.000000    20.147612    42.534599   258.194223      2.776981   \n",
            "max      11.840869    42.077504    77.205550   382.933355     26.087706   \n",
            "\n",
            "       VSA_EState2  VSA_EState3  VSA_EState4  VSA_EState5  VSA_EState6  \\\n",
            "count   596.000000   596.000000   596.000000   596.000000   596.000000   \n",
            "mean     22.664609     2.162616    -7.927474    -4.339167   -12.556247   \n",
            "std       9.932002     4.748891     3.972071     2.977452     4.096459   \n",
            "min       0.000000    -5.907384   -21.278946   -22.898590   -24.918110   \n",
            "25%      16.830812    -0.926095   -10.961944    -6.270015   -15.054186   \n",
            "50%      23.751642     0.000000    -7.773182    -4.080175   -12.775555   \n",
            "75%      29.457067     3.811562    -5.098453    -2.369772   -10.577432   \n",
            "max      57.357436    19.541935     0.000000     4.021058     0.000000   \n",
            "\n",
            "       VSA_EState7  VSA_EState8  VSA_EState9  FractionCSP3  HeavyAtomCount  \\\n",
            "count   596.000000   596.000000   596.000000    596.000000      596.000000   \n",
            "mean     -6.658116   -16.060304    -1.015750      0.217803       34.320470   \n",
            "std       6.324415    12.376869     2.292142      0.125557        5.671066   \n",
            "min     -38.446912   -53.732437   -13.897093      0.000000       17.000000   \n",
            "25%     -10.380903   -26.227601     0.000000      0.120000       31.000000   \n",
            "50%      -5.511901   -16.682468     0.000000      0.214286       35.000000   \n",
            "75%      -1.141237    -4.035328     0.000000      0.300000       38.000000   \n",
            "max       0.000000     0.000000     0.000000      0.733333       48.000000   \n",
            "\n",
            "        NHOHCount     NOCount  NumAliphaticCarbocycles  \\\n",
            "count  596.000000  596.000000               596.000000   \n",
            "mean     1.964765    7.258389                 0.075503   \n",
            "std      1.300459    1.770063                 0.300147   \n",
            "min      0.000000    3.000000                 0.000000   \n",
            "25%      1.000000    6.000000                 0.000000   \n",
            "50%      2.000000    7.000000                 0.000000   \n",
            "75%      3.000000    8.000000                 0.000000   \n",
            "max      5.000000   12.000000                 4.000000   \n",
            "\n",
            "       NumAliphaticHeterocycles  NumAliphaticRings  NumAromaticCarbocycles  \\\n",
            "count                596.000000         596.000000              596.000000   \n",
            "mean                   0.697987           0.773490                2.098993   \n",
            "std                    0.645134           0.722299                0.732395   \n",
            "min                    0.000000           0.000000                0.000000   \n",
            "25%                    0.000000           0.000000                2.000000   \n",
            "50%                    1.000000           1.000000                2.000000   \n",
            "75%                    1.000000           1.000000                3.000000   \n",
            "max                    3.000000           4.000000                3.000000   \n",
            "\n",
            "       NumAromaticHeterocycles  NumAromaticRings  NumHAcceptors  NumHDonors  \\\n",
            "count               596.000000        596.000000     596.000000  596.000000   \n",
            "mean                  1.545302          3.644295       5.946309    1.771812   \n",
            "std                   0.877139          0.883643       1.688459    1.093116   \n",
            "min                   0.000000          0.000000       3.000000    0.000000   \n",
            "25%                   1.000000          3.000000       5.000000    1.000000   \n",
            "50%                   1.000000          4.000000       6.000000    2.000000   \n",
            "75%                   2.000000          4.000000       7.000000    2.000000   \n",
            "max                   4.000000          6.000000      11.000000    4.000000   \n",
            "\n",
            "       NumHeteroatoms  NumRotatableBonds  NumSaturatedCarbocycles  \\\n",
            "count      596.000000         596.000000               596.000000   \n",
            "mean         9.330537           7.053691                 0.070470   \n",
            "std          2.526460           2.325699                 0.292886   \n",
            "min          3.000000           2.000000                 0.000000   \n",
            "25%          8.000000           5.000000                 0.000000   \n",
            "50%          9.000000           7.000000                 0.000000   \n",
            "75%         11.000000           8.000000                 0.000000   \n",
            "max         16.000000          15.000000                 4.000000   \n",
            "\n",
            "       NumSaturatedHeterocycles  NumSaturatedRings   RingCount     MolLogP  \\\n",
            "count                596.000000         596.000000  596.000000  596.000000   \n",
            "mean                   0.615772           0.686242    4.417785    4.634641   \n",
            "std                    0.554601           0.638179    0.993230    1.236219   \n",
            "min                    0.000000           0.000000    1.000000    0.689900   \n",
            "25%                    0.000000           0.000000    4.000000    3.755555   \n",
            "50%                    1.000000           1.000000    4.500000    4.646200   \n",
            "75%                    1.000000           1.000000    5.000000    5.339490   \n",
            "max                    2.000000           4.000000    9.000000    8.471340   \n",
            "\n",
            "            MolMR  fr_Al_COO    fr_Al_OH  fr_Al_OH_noTert      fr_ArN  \\\n",
            "count  596.000000      596.0  596.000000            596.0  596.000000   \n",
            "mean   129.430937        0.0    0.023490              0.0    0.182886   \n",
            "std     19.847014        0.0    0.151581              0.0    0.391218   \n",
            "min     66.806400        0.0    0.000000              0.0    0.000000   \n",
            "25%    118.704725        0.0    0.000000              0.0    0.000000   \n",
            "50%    132.248000        0.0    0.000000              0.0    0.000000   \n",
            "75%    143.318200        0.0    0.000000              0.0    0.000000   \n",
            "max    183.832900        0.0    1.000000              0.0    2.000000   \n",
            "\n",
            "        fr_Ar_COO     fr_Ar_N    fr_Ar_NH    fr_Ar_OH      fr_COO     fr_COO2  \\\n",
            "count  596.000000  596.000000  596.000000  596.000000  596.000000  596.000000   \n",
            "mean     0.050336    2.607383    0.174497    0.063758    0.050336    0.050336   \n",
            "std      0.218820    1.633745    0.388603    0.337009    0.218820    0.218820   \n",
            "min      0.000000    0.000000    0.000000    0.000000    0.000000    0.000000   \n",
            "25%      0.000000    2.000000    0.000000    0.000000    0.000000    0.000000   \n",
            "50%      0.000000    2.000000    0.000000    0.000000    0.000000    0.000000   \n",
            "75%      0.000000    4.000000    0.000000    0.000000    0.000000    0.000000   \n",
            "max      1.000000    9.000000    2.000000    3.000000    1.000000    1.000000   \n",
            "\n",
            "           fr_C_O  fr_C_O_noCOO      fr_C_S    fr_HOCCN  fr_Imine      fr_NH0  \\\n",
            "count  596.000000    596.000000  596.000000  596.000000     596.0  596.000000   \n",
            "mean     1.268456      1.218121    0.001678    0.008389       0.0    3.602349   \n",
            "std      0.752639      0.737523    0.040962    0.091285       0.0    1.792963   \n",
            "min      0.000000      0.000000    0.000000    0.000000       0.0    0.000000   \n",
            "25%      1.000000      1.000000    0.000000    0.000000       0.0    3.000000   \n",
            "50%      1.000000      1.000000    0.000000    0.000000       0.0    4.000000   \n",
            "75%      2.000000      2.000000    0.000000    0.000000       0.0    5.000000   \n",
            "max      4.000000      4.000000    1.000000    1.000000       0.0    9.000000   \n",
            "\n",
            "           fr_NH1      fr_NH2      fr_N_O  fr_Ndealkylation1  \\\n",
            "count  596.000000  596.000000  596.000000         596.000000   \n",
            "mean     1.434564    0.192953    0.001678           0.224832   \n",
            "std      1.059925    0.399181    0.040962           0.417822   \n",
            "min      0.000000    0.000000    0.000000           0.000000   \n",
            "25%      1.000000    0.000000    0.000000           0.000000   \n",
            "50%      1.000000    0.000000    0.000000           0.000000   \n",
            "75%      2.000000    0.000000    0.000000           0.000000   \n",
            "max      4.000000    2.000000    1.000000           1.000000   \n",
            "\n",
            "       fr_Ndealkylation2  fr_Nhpyrrole  fr_SH  fr_aldehyde  \\\n",
            "count         596.000000    596.000000  596.0        596.0   \n",
            "mean            0.058725      0.174497    0.0          0.0   \n",
            "std             0.242344      0.388603    0.0          0.0   \n",
            "min             0.000000      0.000000    0.0          0.0   \n",
            "25%             0.000000      0.000000    0.0          0.0   \n",
            "50%             0.000000      0.000000    0.0          0.0   \n",
            "75%             0.000000      0.000000    0.0          0.0   \n",
            "max             2.000000      2.000000    0.0          0.0   \n",
            "\n",
            "       fr_alkyl_carbamate  fr_alkyl_halide  fr_allylic_oxid    fr_amide  \\\n",
            "count          596.000000       596.000000       596.000000  596.000000   \n",
            "mean             0.001678         1.268456         0.075503    1.167785   \n",
            "std              0.040962         1.539970         0.346901    0.774837   \n",
            "min              0.000000         0.000000         0.000000    0.000000   \n",
            "25%              0.000000         0.000000         0.000000    1.000000   \n",
            "50%              0.000000         0.000000         0.000000    1.000000   \n",
            "75%              0.000000         3.000000         0.000000    2.000000   \n",
            "max              1.000000         6.000000         4.000000    3.000000   \n",
            "\n",
            "       fr_amidine  fr_aniline  fr_aryl_methyl  fr_azide  fr_azo  fr_barbitur  \\\n",
            "count       596.0  596.000000      596.000000     596.0   596.0        596.0   \n",
            "mean          0.0    1.662752        0.090604       0.0     0.0          0.0   \n",
            "std           0.0    1.071568        0.304331       0.0     0.0          0.0   \n",
            "min           0.0    0.000000        0.000000       0.0     0.0          0.0   \n",
            "25%           0.0    1.000000        0.000000       0.0     0.0          0.0   \n",
            "50%           0.0    2.000000        0.000000       0.0     0.0          0.0   \n",
            "75%           0.0    2.000000        0.000000       0.0     0.0          0.0   \n",
            "max           0.0    5.000000        2.000000       0.0     0.0          0.0   \n",
            "\n",
            "       fr_benzene  fr_benzodiazepine  fr_bicyclic  fr_diazo  \\\n",
            "count  596.000000              596.0   596.000000     596.0   \n",
            "mean     2.098993                0.0     0.454698       0.0   \n",
            "std      0.732395                0.0     0.803121       0.0   \n",
            "min      0.000000                0.0     0.000000       0.0   \n",
            "25%      2.000000                0.0     0.000000       0.0   \n",
            "50%      2.000000                0.0     0.000000       0.0   \n",
            "75%      3.000000                0.0     1.000000       0.0   \n",
            "max      3.000000                0.0    13.000000       0.0   \n",
            "\n",
            "       fr_dihydropyridine  fr_epoxide    fr_ester    fr_ether  fr_furan  \\\n",
            "count               596.0       596.0  596.000000  596.000000     596.0   \n",
            "mean                  0.0         0.0    0.003356    0.370805       0.0   \n",
            "std                   0.0         0.0    0.057880    0.720705       0.0   \n",
            "min                   0.0         0.0    0.000000    0.000000       0.0   \n",
            "25%                   0.0         0.0    0.000000    0.000000       0.0   \n",
            "50%                   0.0         0.0    0.000000    0.000000       0.0   \n",
            "75%                   0.0         0.0    0.000000    1.000000       0.0   \n",
            "max                   0.0         0.0    1.000000    4.000000       0.0   \n",
            "\n",
            "       fr_guanido  fr_halogen  fr_hdrzine  fr_hdrzone  fr_imidazole  fr_imide  \\\n",
            "count       596.0  596.000000  596.000000       596.0    596.000000     596.0   \n",
            "mean          0.0    1.867450    0.001678         0.0      0.112416       0.0   \n",
            "std           0.0    1.553813    0.040962         0.0      0.316143       0.0   \n",
            "min           0.0    0.000000    0.000000         0.0      0.000000       0.0   \n",
            "25%           0.0    0.000000    0.000000         0.0      0.000000       0.0   \n",
            "50%           0.0    2.000000    0.000000         0.0      0.000000       0.0   \n",
            "75%           0.0    3.000000    0.000000         0.0      0.000000       0.0   \n",
            "max           0.0    8.000000    1.000000         0.0      1.000000       0.0   \n",
            "\n",
            "       fr_isocyan  fr_isothiocyan   fr_ketone  fr_ketone_Topliss  fr_lactam  \\\n",
            "count       596.0           596.0  596.000000         596.000000      596.0   \n",
            "mean          0.0             0.0    0.067114           0.062081        0.0   \n",
            "std           0.0             0.0    0.263510           0.241504        0.0   \n",
            "min           0.0             0.0    0.000000           0.000000        0.0   \n",
            "25%           0.0             0.0    0.000000           0.000000        0.0   \n",
            "50%           0.0             0.0    0.000000           0.000000        0.0   \n",
            "75%           0.0             0.0    0.000000           0.000000        0.0   \n",
            "max           0.0             0.0    2.000000           1.000000        0.0   \n",
            "\n",
            "       fr_lactone  fr_methoxy  fr_morpholine  fr_nitrile    fr_nitro  \\\n",
            "count       596.0  596.000000     596.000000  596.000000  596.000000   \n",
            "mean          0.0    0.201342       0.052013    0.008389    0.065436   \n",
            "std           0.0    0.564851       0.222241    0.091285    0.247502   \n",
            "min           0.0    0.000000       0.000000    0.000000    0.000000   \n",
            "25%           0.0    0.000000       0.000000    0.000000    0.000000   \n",
            "50%           0.0    0.000000       0.000000    0.000000    0.000000   \n",
            "75%           0.0    0.000000       0.000000    0.000000    0.000000   \n",
            "max           0.0    4.000000       1.000000    1.000000    1.000000   \n",
            "\n",
            "       fr_nitro_arom  fr_nitro_arom_nonortho  fr_nitroso  fr_oxazole  \\\n",
            "count     596.000000                   596.0       596.0       596.0   \n",
            "mean        0.065436                     0.0         0.0         0.0   \n",
            "std         0.247502                     0.0         0.0         0.0   \n",
            "min         0.000000                     0.0         0.0         0.0   \n",
            "25%         0.000000                     0.0         0.0         0.0   \n",
            "50%         0.000000                     0.0         0.0         0.0   \n",
            "75%         0.000000                     0.0         0.0         0.0   \n",
            "max         1.000000                     0.0         0.0         0.0   \n",
            "\n",
            "       fr_oxime  fr_para_hydroxylation   fr_phenol  fr_phenol_noOrthoHbond  \\\n",
            "count     596.0             596.000000  596.000000              596.000000   \n",
            "mean        0.0               0.040268    0.057047                0.057047   \n",
            "std         0.0               0.228380    0.328123                0.328123   \n",
            "min         0.0               0.000000    0.000000                0.000000   \n",
            "25%         0.0               0.000000    0.000000                0.000000   \n",
            "50%         0.0               0.000000    0.000000                0.000000   \n",
            "75%         0.0               0.000000    0.000000                0.000000   \n",
            "max         0.0               2.000000    3.000000                3.000000   \n",
            "\n",
            "       fr_phos_acid  fr_phos_ester  fr_piperdine  fr_piperzine  fr_priamide  \\\n",
            "count         596.0          596.0    596.000000    596.000000   596.000000   \n",
            "mean            0.0            0.0      0.023490      0.406040     0.005034   \n",
            "std             0.0            0.0      0.151581      0.491505     0.070828   \n",
            "min             0.0            0.0      0.000000      0.000000     0.000000   \n",
            "25%             0.0            0.0      0.000000      0.000000     0.000000   \n",
            "50%             0.0            0.0      0.000000      0.000000     0.000000   \n",
            "75%             0.0            0.0      0.000000      1.000000     0.000000   \n",
            "max             0.0            0.0      1.000000      1.000000     1.000000   \n",
            "\n",
            "       fr_prisulfonamd  fr_pyridine  fr_quatN  fr_sulfide  fr_sulfonamd  \\\n",
            "count            596.0   596.000000     596.0  596.000000    596.000000   \n",
            "mean               0.0     0.412752       0.0    0.055369      0.045302   \n",
            "std                0.0     0.516066       0.0    0.228891      0.208140   \n",
            "min                0.0     0.000000       0.0    0.000000      0.000000   \n",
            "25%                0.0     0.000000       0.0    0.000000      0.000000   \n",
            "50%                0.0     0.000000       0.0    0.000000      0.000000   \n",
            "75%                0.0     1.000000       0.0    0.000000      0.000000   \n",
            "max                0.0     2.000000       0.0    1.000000      1.000000   \n",
            "\n",
            "       fr_sulfone  fr_term_acetylene  fr_tetrazole  fr_thiazole  fr_thiocyan  \\\n",
            "count  596.000000              596.0         596.0   596.000000        596.0   \n",
            "mean     0.003356                0.0           0.0     0.075503          0.0   \n",
            "std      0.057880                0.0           0.0     0.264424          0.0   \n",
            "min      0.000000                0.0           0.0     0.000000          0.0   \n",
            "25%      0.000000                0.0           0.0     0.000000          0.0   \n",
            "50%      0.000000                0.0           0.0     0.000000          0.0   \n",
            "75%      0.000000                0.0           0.0     0.000000          0.0   \n",
            "max      1.000000                0.0           0.0     1.000000          0.0   \n",
            "\n",
            "       fr_thiophene  fr_unbrch_alkane     fr_urea  \n",
            "count    596.000000             596.0  596.000000  \n",
            "mean       0.013423               0.0    0.020134  \n",
            "std        0.115173               0.0    0.140577  \n",
            "min        0.000000               0.0    0.000000  \n",
            "25%        0.000000               0.0    0.000000  \n",
            "50%        0.000000               0.0    0.000000  \n",
            "75%        0.000000               0.0    0.000000  \n",
            "max        1.000000               0.0    1.000000  \n"
          ]
        }
      ]
    },
    {
      "cell_type": "code",
      "source": [
        "X = df.drop(columns=['ic50', 'id', 'smiles', 'unit', 'canonical'])\n",
        "y = df['ic50']\n",
        "\n",
        "X_train, X_test, y_train, y_test = train_test_split(X, y, test_size=0.2, random_state=42)"
      ],
      "metadata": {
        "id": "iiBExjD-PUD7"
      },
      "execution_count": null,
      "outputs": []
    },
    {
      "cell_type": "code",
      "source": [
        "print(f\"Training data shape: {X_train.shape}\")\n",
        "print(f\"Testing data shape: {X_test.shape}\")\n",
        "print(f\"Training labels shape: {y_train.shape}\")\n",
        "print(f\"Testing labels shape: {y_test.shape}\")"
      ],
      "metadata": {
        "colab": {
          "base_uri": "https://localhost:8080/"
        },
        "id": "toCF6IIPPX9q",
        "outputId": "752f03bb-3aa6-4988-c97d-2383d9a843ce"
      },
      "execution_count": null,
      "outputs": [
        {
          "output_type": "stream",
          "name": "stdout",
          "text": [
            "Training data shape: (476, 210)\n",
            "Testing data shape: (120, 210)\n",
            "Training labels shape: (476,)\n",
            "Testing labels shape: (120,)\n"
          ]
        }
      ]
    },
    {
      "cell_type": "markdown",
      "source": [
        "## Scaling"
      ],
      "metadata": {
        "id": "scQhWmH3NJMk"
      }
    },
    {
      "cell_type": "code",
      "source": [
        "# Rio: should we check outliers before scaling?\n",
        "\n",
        "from sklearn.preprocessing import StandardScaler\n",
        "scaler = StandardScaler()"
      ],
      "metadata": {
        "id": "QLRUr1jFNOkj"
      },
      "execution_count": null,
      "outputs": []
    },
    {
      "cell_type": "code",
      "source": [
        "X_train_scaled = scaler.fit_transform(X_train) # fit and transform the training dataset\n",
        "X_test_scaled = scaler.transform(X_test) # only transform the test set"
      ],
      "metadata": {
        "id": "ATM7w5rAOHls"
      },
      "execution_count": null,
      "outputs": []
    },
    {
      "cell_type": "code",
      "source": [
        "print(f\"Transformed Training data shape: {X_train.shape}\")\n",
        "print(f\"Transformed Testing data shape: {X_test.shape}\")"
      ],
      "metadata": {
        "colab": {
          "base_uri": "https://localhost:8080/"
        },
        "id": "WYR_vdvnK7qj",
        "outputId": "24027411-e045-4ad3-e5cc-bea9af6eaad9"
      },
      "execution_count": null,
      "outputs": [
        {
          "output_type": "stream",
          "name": "stdout",
          "text": [
            "Transformed Training data shape: (476, 210)\n",
            "Transformed Testing data shape: (120, 210)\n"
          ]
        }
      ]
    },
    {
      "cell_type": "markdown",
      "source": [
        "## Feature analysis: Clustering"
      ],
      "metadata": {
        "id": "QIlFHq8m0BZ7"
      }
    },
    {
      "cell_type": "code",
      "source": [
        "from sklearn.cluster import DBSCAN"
      ],
      "metadata": {
        "id": "Rch101qd0QEN"
      },
      "execution_count": null,
      "outputs": []
    },
    {
      "cell_type": "code",
      "source": [
        "# k-distance graph to find a proper 'eps' for DBSCAN\n",
        "import numpy as np\n",
        "import matplotlib.pyplot as plt\n",
        "from sklearn.neighbors import NearestNeighbors\n",
        "\n",
        "k = 4\n",
        "\n",
        "neigh = NearestNeighbors(n_neighbors=k)\n",
        "nbrs = neigh.fit(X_train_scaled)\n",
        "distances, indices = nbrs.kneighbors(X_train_scaled)\n",
        "\n",
        "k_distances = np.sort(distances[:, k-1])\n",
        "\n",
        "plt.plot(range(1, len(k_distances) + 1), k_distances)\n",
        "plt.xlabel('Points sorted by distance')\n",
        "plt.ylabel(f'{k}-distance')\n",
        "plt.title(f'k-distance Graph for k={k}')\n",
        "plt.show()"
      ],
      "metadata": {
        "colab": {
          "base_uri": "https://localhost:8080/",
          "height": 472
        },
        "id": "-uO1ugzB5FpX",
        "outputId": "7e26c1aa-2a0d-449a-87a1-6f4f87e54e66"
      },
      "execution_count": null,
      "outputs": [
        {
          "output_type": "display_data",
          "data": {
            "text/plain": [
              "<Figure size 640x480 with 1 Axes>"
            ],
            "image/png": "[encoded data removed]"
          },
          "metadata": {}
        }
      ]
    },
    {
      "cell_type": "code",
      "source": [
        "# Apply DBSCAN --> elbow as eps = 10\n",
        "dbscan = DBSCAN(eps=10, min_samples=5)\n",
        "clusters = dbscan.fit_predict(X_train_scaled)\n",
        "\n",
        "unique_labels = set(clusters)\n",
        "n_clusters = len(unique_labels) - (1 if -1 in clusters else 0)\n",
        "n_noise_points = list(clusters).count(-1)\n",
        "print(f\"Number of clusters: {n_clusters}\")\n",
        "print(f\"Number of noise points: {n_noise_points}\")"
      ],
      "metadata": {
        "colab": {
          "base_uri": "https://localhost:8080/"
        },
        "id": "hsKdSZUu0n_1",
        "outputId": "8c9a5c2d-e16c-469c-ea67-755eee3d1bbb"
      },
      "execution_count": null,
      "outputs": [
        {
          "output_type": "stream",
          "name": "stdout",
          "text": [
            "Number of clusters: 5\n",
            "Number of noise points: 57\n"
          ]
        }
      ]
    },
    {
      "cell_type": "code",
      "source": [
        "# Visualization of clusters\n",
        "import numpy as np\n",
        "import matplotlib.pyplot as plt\n",
        "from sklearn.decomposition import PCA\n",
        "from sklearn.manifold import TSNE\n",
        "\n",
        "pca = PCA(n_components=2) # reduce to PCA for easier visualization\n",
        "X_pca = pca.fit_transform(X_train_scaled)\n",
        "\n",
        "plt.figure(figsize=(12, 6))\n",
        "plt.subplot(1, 2, 1)\n",
        "plt.scatter(X_pca[:, 0], X_pca[:, 1], c=clusters)\n",
        "plt.title('PCA plot of clusters')\n",
        "\n",
        "plt.show()"
      ],
      "metadata": {
        "colab": {
          "base_uri": "https://localhost:8080/",
          "height": 545
        },
        "id": "MiizEG-THN2f",
        "outputId": "8ec6659f-bd24-42b8-e151-7fbe23376316"
      },
      "execution_count": null,
      "outputs": [
        {
          "output_type": "display_data",
          "data": {
            "text/plain": [
              "<Figure size 1200x600 with 1 Axes>"
            ],
            "image/png": "[encoded data removed]"
          },
          "metadata": {}
        }
      ]
    },
    {
      "cell_type": "markdown",
      "source": [
        "## Training 1: Best Model Determination"
      ],
      "metadata": {
        "id": "e_cWYblGJI8h"
      }
    },
    {
      "cell_type": "code",
      "source": [
        "from sklearn.metrics import mean_squared_error, r2_score"
      ],
      "metadata": {
        "id": "hRZ2a63fsNO2"
      },
      "execution_count": null,
      "outputs": []
    },
    {
      "cell_type": "code",
      "source": [
        "from sklearn.model_selection import train_test_split\n",
        "\n",
        "# Separate noise and non-noise data\n",
        "is_noise = (clusters == -1)\n",
        "X_noise = X_train_scaled[is_noise]\n",
        "\n",
        "#noise is being left alone for now"
      ],
      "metadata": {
        "id": "FAITL69HNpoB"
      },
      "execution_count": null,
      "outputs": []
    },
    {
      "cell_type": "code",
      "source": [
        "### Linear Regression ### --> Baseline Model\n",
        "\n",
        "import numpy as np\n",
        "from sklearn.linear_model import LinearRegression\n",
        "from sklearn.model_selection import train_test_split\n",
        "import matplotlib.pyplot as plt\n",
        "\n",
        "model = LinearRegression()\n",
        "model.fit(X_train_scaled, y_train)\n",
        "\n",
        "from sklearn.metrics import mean_squared_error\n",
        "\n",
        "y_pred = model.predict(X_test_scaled)\n",
        "mse = mean_squared_error(y_test, y_pred)\n",
        "r2_lr= r2_score(y_test, y_pred)\n",
        "print(f\"Mean Squared Error: {mse:.2f}\")\n",
        "print(f\"LR R^2 Score: {r2_lr:.2f}\")"
      ],
      "metadata": {
        "colab": {
          "base_uri": "https://localhost:8080/"
        },
        "id": "x5WpeiwqSZi4",
        "outputId": "7e4777c1-a825-4c0b-ffba-605a5e5aed2b"
      },
      "execution_count": null,
      "outputs": [
        {
          "output_type": "stream",
          "name": "stdout",
          "text": [
            "Mean Squared Error: 559114966924419652361650176.00\n",
            "LR R^2 Score: -151982652394754944.00\n"
          ]
        }
      ]
    },
    {
      "cell_type": "code",
      "source": [
        "### Random Forest ###\n",
        "from sklearn.ensemble import RandomForestRegressor\n",
        "\n",
        "model = RandomForestRegressor()\n",
        "model.fit(X_train_scaled, y_train)\n",
        "\n",
        "from sklearn.metrics import mean_squared_error\n",
        "\n",
        "y_pred = model.predict(X_test_scaled)\n",
        "mse = mean_squared_error(y_test, y_pred)\n",
        "r2_rf = r2_score(y_test, y_pred)\n",
        "print(f\"Mean Squared Error: {mse:.2f}\")\n",
        "print(f\"RF R^2 Score: {r2_rf:.2f}\")"
      ],
      "metadata": {
        "colab": {
          "base_uri": "https://localhost:8080/"
        },
        "id": "FryoaIIjRWZh",
        "outputId": "2eb584df-dfcb-4ee1-c95a-5cba2e1edf49"
      },
      "execution_count": null,
      "outputs": [
        {
          "output_type": "stream",
          "name": "stdout",
          "text": [
            "Mean Squared Error: 9147107581.97\n",
            "RF R^2 Score: -1.49\n"
          ]
        }
      ]
    },
    {
      "cell_type": "code",
      "source": [
        "### SVM-R (SVR) ###\n",
        "from sklearn.svm import SVR\n",
        "from sklearn.preprocessing import StandardScaler\n",
        "from sklearn.pipeline import Pipeline\n",
        "from sklearn.metrics import mean_squared_error\n",
        "\n",
        "svm_pipeline = Pipeline([\n",
        "    ('scaler', StandardScaler()),\n",
        "    ('svm', SVR())\n",
        "])\n",
        "\n",
        "svm_pipeline.fit(X_train_scaled, y_train)\n",
        "\n",
        "y_pred_svm = svm_pipeline.predict(X_test_scaled)\n",
        "mse_svm = mean_squared_error(y_test, y_pred_svm)\n",
        "r2_svm = r2_score(y_test, y_pred_svm)\n",
        "print(f\"SVM Mean Squared Error: {mse_svm:.2f}\")\n",
        "print(f\"SVM R^2 Score: {r2_svm:.2f}\")"
      ],
      "metadata": {
        "colab": {
          "base_uri": "https://localhost:8080/"
        },
        "id": "kO8YFTSSpQI_",
        "outputId": "6b424291-eeed-4fa4-fd8c-8b9c1c0ae727"
      },
      "execution_count": null,
      "outputs": [
        {
          "output_type": "stream",
          "name": "stdout",
          "text": [
            "SVM Mean Squared Error: 4023167242.53\n",
            "SVM R^2 Score: -0.09\n"
          ]
        }
      ]
    },
    {
      "cell_type": "code",
      "source": [
        "### XGBoost ###\n",
        "import xgboost as xgb\n",
        "from sklearn.metrics import mean_squared_error\n",
        "\n",
        "dtrain = xgb.DMatrix(X_train_scaled, label=y_train)\n",
        "dtest = xgb.DMatrix(X_test_scaled, label=y_test)\n",
        "\n",
        "# Params\n",
        "params = {\n",
        "    'objective': 'reg:squarederror', # Regression with squared loss\n",
        "    'max_depth': 6,                  # Maximum depth of a tree\n",
        "    'eta': 0.3,                      # Learning rate\n",
        "    'subsample': 0.8,                # Subsample ratio of the training instances\n",
        "    'colsample_bytree': 0.8,         # Subsample ratio of columns when constructing each tree\n",
        "    'seed': 42                       # Random seed for reproducibility\n",
        "}\n",
        "\n",
        "bst = xgb.train(params, dtrain, num_boost_round=100)\n",
        "\n",
        "y_pred_xgb = bst.predict(dtest)\n",
        "mse_xgb = mean_squared_error(y_test, y_pred_xgb)\n",
        "r2_xgb = r2_score(y_test, y_pred_xgb)\n",
        "print(f\"XGB R^2 Score: {r2_xgb:.2f}\")\n",
        "print(f\"XGBoost Mean Squared Error: {mse_xgb:.2f}\")"
      ],
      "metadata": {
        "colab": {
          "base_uri": "https://localhost:8080/"
        },
        "id": "jTfmGDFIq8tW",
        "outputId": "f708a06a-4c1b-4d3d-9f8d-28ec4e0ec0f1"
      },
      "execution_count": null,
      "outputs": [
        {
          "output_type": "stream",
          "name": "stdout",
          "text": [
            "XGB R^2 Score: -11.99\n",
            "XGBoost Mean Squared Error: 47775799600.63\n"
          ]
        }
      ]
    },
    {
      "cell_type": "code",
      "source": [
        "### MLP ###\n",
        "\n",
        "from sklearn.neural_network import MLPRegressor\n",
        "from sklearn.preprocessing import StandardScaler\n",
        "from sklearn.pipeline import Pipeline\n",
        "\n",
        "mlp_pipeline = Pipeline([\n",
        "    ('scaler', StandardScaler()),\n",
        "    ('mlp', MLPRegressor(hidden_layer_sizes=(100, 50), max_iter=500, random_state=42))\n",
        "])"
      ],
      "metadata": {
        "id": "6KpRRfKKsFrD"
      },
      "execution_count": null,
      "outputs": []
    },
    {
      "cell_type": "code",
      "source": [
        "# Train\n",
        "mlp_pipeline.fit(X_train_scaled, y_train)\n",
        "\n",
        "y_pred_mlp = mlp_pipeline.predict(X_test_scaled)\n",
        "mse_mlp = mean_squared_error(y_test, y_pred_mlp)\n",
        "r2_mlp = r2_score(y_test, y_pred_mlp)\n",
        "print(f\"MLP Mean Squared Error: {mse_mlp:.2f}\")\n",
        "print(f\"MLP R^2 Score: {r2_mlp:.2f}\")"
      ],
      "metadata": {
        "colab": {
          "base_uri": "https://localhost:8080/"
        },
        "id": "sWzTmcGKsg58",
        "outputId": "8cd2a55a-4ec7-46c4-cddf-8200b2d0bdff"
      },
      "execution_count": null,
      "outputs": [
        {
          "output_type": "stream",
          "name": "stdout",
          "text": [
            "MLP Mean Squared Error: 5330542890.14\n",
            "MLP R^2 Score: -0.45\n"
          ]
        },
        {
          "output_type": "stream",
          "name": "stderr",
          "text": [
            "/usr/local/lib/python3.10/dist-packages/sklearn/neural_network/_multilayer_perceptron.py:686: ConvergenceWarning: Stochastic Optimizer: Maximum iterations (500) reached and the optimization hasn't converged yet.\n",
            "  warnings.warn(\n"
          ]
        }
      ]
    },
    {
      "cell_type": "markdown",
      "source": [
        "Conclusion: SVM and MLP is slightly better than the rest"
      ],
      "metadata": {
        "id": "Lsa1bOf02bwY"
      }
    },
    {
      "cell_type": "markdown",
      "source": [
        "## RFE"
      ],
      "metadata": {
        "id": "2pHc9miQ5vXT"
      }
    },
    {
      "cell_type": "code",
      "source": [
        "from sklearn.feature_selection import RFE\n",
        "from sklearn.linear_model import LinearRegression\n",
        "\n",
        "estimator = LinearRegression() # can be experimented upon\n",
        "\n",
        "rfe = RFE(estimator=estimator, n_features_to_select=50)  # 'n' can be experimented upon"
      ],
      "metadata": {
        "id": "lbFSKM6e5yOQ"
      },
      "execution_count": null,
      "outputs": []
    },
    {
      "cell_type": "code",
      "source": [
        "rfe.fit(X_train, y_train)\n",
        "\n",
        "print(\"Selected Features: %s\" % list(X_train.columns[rfe.support_]))\n",
        "print(\"Feature Ranking: %s\" % list(rfe.ranking_))"
      ],
      "metadata": {
        "colab": {
          "base_uri": "https://localhost:8080/"
        },
        "id": "bk2Ulo4Q6cFK",
        "outputId": "a678b7a5-f41a-401d-8f4f-3c37aa168bbe"
      },
      "execution_count": null,
      "outputs": [
        {
          "output_type": "stream",
          "name": "stdout",
          "text": [
            "Selected Features: ['NumValenceElectrons', 'Chi0n', 'PEOE_VSA1', 'PEOE_VSA10', 'PEOE_VSA11', 'PEOE_VSA12', 'PEOE_VSA13', 'PEOE_VSA14', 'PEOE_VSA2', 'PEOE_VSA3', 'PEOE_VSA4', 'PEOE_VSA5', 'PEOE_VSA6', 'PEOE_VSA7', 'PEOE_VSA8', 'PEOE_VSA9', 'SMR_VSA1', 'SMR_VSA10', 'SMR_VSA2', 'SMR_VSA3', 'SMR_VSA4', 'SMR_VSA5', 'SMR_VSA6', 'SMR_VSA7', 'SMR_VSA9', 'SlogP_VSA1', 'SlogP_VSA10', 'SlogP_VSA11', 'SlogP_VSA12', 'SlogP_VSA2', 'SlogP_VSA3', 'SlogP_VSA4', 'SlogP_VSA5', 'SlogP_VSA6', 'SlogP_VSA7', 'SlogP_VSA8', 'EState_VSA10', 'EState_VSA11', 'EState_VSA2', 'EState_VSA3', 'EState_VSA8', 'EState_VSA9', 'HeavyAtomCount', 'NumHDonors', 'NumHeteroatoms', 'fr_NH0', 'fr_NH1', 'fr_NH2', 'fr_halogen', 'fr_nitrile']\n",
            "Feature Ranking: [66, 65, 49, 90, 50, 94, 83, 16, 27, 17, 1, 138, 45, 43, 46, 44, 69, 67, 68, 113, 92, 109, 99, 88, 116, 118, 85, 111, 123, 51, 1, 25, 77, 18, 14, 75, 74, 80, 79, 81, 82, 112, 124, 120, 106, 107, 13, 1, 1, 1, 1, 1, 1, 1, 1, 1, 1, 1, 1, 1, 1, 1, 1, 1, 1, 1, 1, 1, 1, 147, 1, 1, 1, 1, 1, 1, 1, 1, 1, 1, 1, 1, 159, 105, 3, 1, 1, 1, 1, 2, 4, 6, 5, 1, 1, 57, 52, 53, 54, 55, 56, 59, 61, 58, 60, 89, 1, 7, 15, 33, 34, 32, 36, 37, 38, 117, 1, 1, 104, 39, 41, 40, 42, 64, 86, 130, 23, 146, 100, 12, 101, 48, 22, 11, 9, 8, 10, 19, 96, 161, 1, 1, 1, 143, 122, 114, 47, 144, 141, 91, 121, 84, 29, 155, 78, 95, 150, 133, 136, 35, 153, 97, 156, 157, 151, 28, 72, 148, 154, 1, 93, 132, 108, 160, 152, 140, 31, 76, 145, 135, 87, 102, 1, 70, 71, 127, 139, 149, 126, 98, 63, 62, 125, 142, 110, 115, 103, 137, 119, 131, 73, 21, 20, 128, 129, 24, 134, 26, 158, 30]\n"
          ]
        }
      ]
    },
    {
      "cell_type": "markdown",
      "source": [
        "## New DataFrame"
      ],
      "metadata": {
        "id": "n7_Te1T3P2c_"
      }
    },
    {
      "cell_type": "code",
      "source": [
        "import pandas as pd\n",
        "from sklearn.preprocessing import StandardScaler\n",
        "\n",
        "selected_features = X_train.columns[rfe.support_]\n",
        "\n",
        "# Memastikan selected_features adalah array 1 dimensi dengan 50 elemen\n",
        "print(f\"Jumlah selected_features: {len(selected_features)}\")\n",
        "print(f\"Jumlah kolom X_train_scaled: {X_train_scaled.shape[1]}\")\n",
        "\n",
        "# Mendapatkan list kolom yang tidak ada di selected_features\n",
        "columns_to_drop = [col for col in X_train.columns if col not in selected_features]\n",
        "\n",
        "# Mendrop kolom-kolom tersebut dari X_train dan X_test\n",
        "X_train = X_train.drop(columns=columns_to_drop)\n",
        "X_test = X_test.drop(columns=columns_to_drop)\n",
        "\n",
        "# Menskalakan X_train dan X_test\n",
        "scaler = StandardScaler()\n",
        "X_train_scaled = scaler.fit_transform(X_train)\n",
        "X_test_scaled = scaler.transform(X_test)\n",
        "\n",
        "# Memastikan X_train_scaled dan X_test_scaled memiliki ukuran yang benar\n",
        "print(f\"Ukuran X_train_scaled: {X_train_scaled.shape}\")\n",
        "print(f\"Ukuran X_test_scaled: {X_test_scaled.shape}\")\n",
        "\n",
        "# Mengubah hasil skala menjadi DataFrame dengan kolom-kolom yang dipilih\n",
        "X_train_final = pd.DataFrame(X_train_scaled, columns=selected_features)\n",
        "X_test_final = pd.DataFrame(X_test_scaled, columns=selected_features)"
      ],
      "metadata": {
        "id": "6LhlN6BLPznZ",
        "colab": {
          "base_uri": "https://localhost:8080/"
        },
        "outputId": "5ff8ddfe-1a0b-4a67-bebe-f951e3d56511"
      },
      "execution_count": null,
      "outputs": [
        {
          "output_type": "stream",
          "name": "stdout",
          "text": [
            "Jumlah selected_features: 50\n",
            "Jumlah kolom X_train_scaled: 210\n",
            "Ukuran X_train_scaled: (476, 50)\n",
            "Ukuran X_test_scaled: (120, 50)\n"
          ]
        }
      ]
    },
    {
      "cell_type": "code",
      "source": [
        "print(\"First few rows of the Transformed and Scaled Training set:\\n\", X_train_final.head())\n",
        "print(\"First few rows of the Transformed and Scaled Testing set:\\n\", X_test_final.head())"
      ],
      "metadata": {
        "colab": {
          "base_uri": "https://localhost:8080/"
        },
        "id": "qK8PovpdRx_O",
        "outputId": "4bc60660-6103-4b5c-a618-aceeb2ac4238"
      },
      "execution_count": null,
      "outputs": [
        {
          "output_type": "stream",
          "name": "stdout",
          "text": [
            "First few rows of the Transformed and Scaled Training set:\n",
            "    NumValenceElectrons     Chi0n  PEOE_VSA1  PEOE_VSA10  PEOE_VSA11  \\\n",
            "0            -0.709204 -1.188390  -0.596082   -1.045510    1.267293   \n",
            "1            -0.970339 -0.680108  -0.819652   -0.244998   -1.110783   \n",
            "2             0.270049  0.568863   1.942622    0.536879    0.974454   \n",
            "3            -0.317503  0.592714   0.086423    0.648271   -0.817944   \n",
            "4             0.139482 -0.162644  -1.561443    1.594679    0.646212   \n",
            "\n",
            "   PEOE_VSA12  PEOE_VSA13  PEOE_VSA14  PEOE_VSA2  PEOE_VSA3  PEOE_VSA4  \\\n",
            "0   -0.805413    0.058171    0.724013  -0.075365  -1.463325   1.396960   \n",
            "1   -0.805413    1.512595   -0.971368   0.804471  -0.685194  -1.083662   \n",
            "2   -0.805413    1.512595   -0.971368   0.824695  -1.463325  -0.391382   \n",
            "3    0.447662   -1.396253   -0.971368   0.824252  -1.463325  -1.083662   \n",
            "4   -0.805413   -1.396253    0.724013  -0.995648   1.133112   1.396960   \n",
            "\n",
            "   PEOE_VSA5  PEOE_VSA6  PEOE_VSA7  PEOE_VSA8  PEOE_VSA9  SMR_VSA1  SMR_VSA10  \\\n",
            "0  -0.520647   0.568423  -0.339973  -1.283978  -0.415285 -0.810916  -0.038422   \n",
            "1  -0.520647   0.112684  -0.412626  -0.096405  -0.830623 -0.572090  -1.216968   \n",
            "2  -0.520647   0.112684  -0.870900  -0.372810   2.233143  0.735659  -0.022724   \n",
            "3  -0.520647   2.012341  -1.787448   0.119499   1.129714  0.547015  -1.638874   \n",
            "4  -0.520647   0.578010   0.207134  -0.465598  -0.673194 -0.515133  -0.087821   \n",
            "\n",
            "   SMR_VSA2  SMR_VSA3  SMR_VSA4  SMR_VSA5  SMR_VSA6  SMR_VSA7  SMR_VSA9  \\\n",
            "0 -0.332488 -0.888234 -0.253639 -0.714441 -0.918765  0.388243 -0.077208   \n",
            "1 -0.332488 -0.390105 -0.253639 -1.151062 -0.034270  0.435073 -0.166614   \n",
            "2 -0.332488  0.174500 -0.253639 -1.151062  1.136289 -0.420906  1.273354   \n",
            "3 -0.332488 -0.345654 -0.253639 -0.241259  0.745098  0.160922  0.553370   \n",
            "4 -0.332488  0.688765 -0.253639  1.164122 -1.232746 -0.156690  1.332501   \n",
            "\n",
            "   SlogP_VSA1  SlogP_VSA10  SlogP_VSA11  SlogP_VSA12  SlogP_VSA2  SlogP_VSA3  \\\n",
            "0    0.145872     0.869104    -0.445424    -0.648599   -1.545756   -0.244269   \n",
            "1   -1.801037    -1.365098    -0.445424    -0.648599    0.290130   -1.125264   \n",
            "2    0.880876    -1.207886     1.934721    -0.648599    1.260315   -1.125264   \n",
            "3   -0.027620    -1.848635     0.744648    -0.648599    0.409527    2.070070   \n",
            "4   -0.791405     0.242725    -0.445424    -0.648599   -1.111295   -0.244269   \n",
            "\n",
            "   SlogP_VSA4  SlogP_VSA5  SlogP_VSA6  SlogP_VSA7  SlogP_VSA8  EState_VSA10  \\\n",
            "0    0.982959   -0.643311    0.175250    0.509193   -0.310723      0.658547   \n",
            "1    0.059664   -0.330630    0.556857   -1.106966   -0.283755      0.187256   \n",
            "2   -0.831990   -0.045102   -0.190559    0.105153    1.028972     -0.331813   \n",
            "3   -0.831990   -0.252128    0.548958   -0.702926   -0.283755     -0.898660   \n",
            "4    2.033206    0.711868   -0.532671   -0.298886    2.357410      0.091700   \n",
            "\n",
            "   EState_VSA11  EState_VSA2  EState_VSA3  EState_VSA8  EState_VSA9  \\\n",
            "0     -0.410486     0.727272     1.273738     0.247095    -1.616189   \n",
            "1     -0.410486    -1.019993    -0.425796    -1.256496    -0.887374   \n",
            "2     -0.410486     0.680936    -0.425796    -0.050608     0.171462   \n",
            "3     -0.410486    -1.019993    -0.425796    -0.660765     0.977278   \n",
            "4     -0.410486     0.616448    -0.425796     2.127523    -0.729078   \n",
            "\n",
            "   HeavyAtomCount  NumHDonors  NumHeteroatoms    fr_NH0    fr_NH1    fr_NH2  \\\n",
            "0       -0.563617    1.134424       -0.522267 -1.402517  0.543330  2.043158   \n",
            "1       -0.910233   -1.630009       -1.288366 -0.309885 -1.344444 -0.476384   \n",
            "2        0.302926    0.212946       -0.139218 -0.309885 -0.400557  2.043158   \n",
            "3       -0.390308   -0.708531       -1.288366 -0.856201 -0.400557 -0.476384   \n",
            "4        0.302926   -0.708531       -0.139218  0.782747 -1.344444  2.043158   \n",
            "\n",
            "   fr_halogen  fr_nitrile  \n",
            "0    0.693226   -0.092057  \n",
            "1   -0.590726   -0.092057  \n",
            "2   -1.232702   -0.092057  \n",
            "3   -1.232702   -0.092057  \n",
            "4    0.693226   -0.092057  \n",
            "First few rows of the Transformed and Scaled Testing set:\n",
            "    NumValenceElectrons     Chi0n  PEOE_VSA1  PEOE_VSA10  PEOE_VSA11  \\\n",
            "0            -0.643921 -1.451694  -1.672511   -1.045510    0.088756   \n",
            "1             0.074198  0.312367   0.041543   -0.244910   -1.110783   \n",
            "2            -0.643921 -0.571996   0.369279   -0.244998    1.560132   \n",
            "3             0.661750  0.337971   0.294756    0.732920   -0.525105   \n",
            "4            -0.513354 -1.263577  -0.596082   -1.045510    1.267293   \n",
            "\n",
            "   PEOE_VSA12  PEOE_VSA13  PEOE_VSA14  PEOE_VSA2  PEOE_VSA3  PEOE_VSA4  \\\n",
            "0    0.428580   -1.043874    2.228370   0.867510  -0.613569  -0.487548   \n",
            "1    2.582610   -1.396253   -0.971368  -1.931271   0.911927   0.177590   \n",
            "2   -0.805413    1.512595   -0.971368   0.824695  -0.685194  -0.391382   \n",
            "3    1.700738   -1.396253    0.724013  -0.131152   0.249781   0.704680   \n",
            "4   -0.805413    0.058171    0.724013  -0.075365  -1.463325   1.396960   \n",
            "\n",
            "   PEOE_VSA5  PEOE_VSA6  PEOE_VSA7  PEOE_VSA8  PEOE_VSA9  SMR_VSA1  SMR_VSA10  \\\n",
            "0  -0.520647   1.814256   0.082707  -1.345530  -0.385486 -0.654605   1.594907   \n",
            "1  -0.520647   1.537426  -1.037550  -0.044795   1.706705  0.081677   0.633243   \n",
            "2  -0.520647   0.587598  -0.412626  -1.207552  -0.423373 -0.553942  -0.022724   \n",
            "3   0.814066   1.150186  -1.231455  -0.197466   0.548935  0.820122   0.433339   \n",
            "4  -0.520647   1.005304  -0.339973  -1.283978  -0.047990 -0.932023   0.790148   \n",
            "\n",
            "   SMR_VSA2  SMR_VSA3  SMR_VSA4  SMR_VSA5  SMR_VSA6  SMR_VSA7  SMR_VSA9  \\\n",
            "0  1.451651 -1.993323 -0.253639 -0.804986 -1.570965  1.318822 -1.559984   \n",
            "1 -0.332488 -0.445480 -0.253639 -0.804986  2.089257 -0.728352 -0.166614   \n",
            "2 -0.332488  0.263403 -0.253639 -1.151062 -0.464398  0.138011 -0.166614   \n",
            "3 -0.332488  0.748978  2.429527  2.040066 -0.558829 -1.288389 -0.150275   \n",
            "4 -0.332488 -0.888234 -0.253639 -0.714441 -0.918765  0.340183 -0.077208   \n",
            "\n",
            "   SlogP_VSA1  SlogP_VSA10  SlogP_VSA11  SlogP_VSA12  SlogP_VSA2  SlogP_VSA3  \\\n",
            "0   -1.801037    -0.738719    -0.445424     1.920186   -1.259611   -1.125264   \n",
            "1   -0.071194    -0.552768    -0.445424     0.829115    1.407344    0.980143   \n",
            "2    1.083148    -0.724349    -0.445424    -0.648599   -0.594762   -1.125264   \n",
            "3    1.010793     0.869104    -0.445424     0.427542   -0.126407    1.123529   \n",
            "4    0.145872     0.869104    -0.445424     0.427542   -1.545756   -0.244269   \n",
            "\n",
            "   SlogP_VSA4  SlogP_VSA5  SlogP_VSA6  SlogP_VSA7  SlogP_VSA8  EState_VSA10  \\\n",
            "0    1.609970   -0.611970    1.039361   -1.106966   -0.722454      1.383050   \n",
            "1   -0.831990   -0.981119    0.384493   -1.106966   -0.283755     -0.470290   \n",
            "2    0.059664   -0.687540    0.175250    0.913233    1.028972      0.187256   \n",
            "3   -0.001989    0.738753   -1.272188    1.542527   -0.268046      1.225394   \n",
            "4    0.982959   -0.714693   -0.190559    1.946567   -0.310723      0.658547   \n",
            "\n",
            "   EState_VSA11  EState_VSA2  EState_VSA3  EState_VSA8  EState_VSA9  \\\n",
            "0     -0.410486     1.534149    -0.425796     0.762630    -1.926196   \n",
            "1     -0.410486    -1.019993    -0.425796     1.969471     0.008690   \n",
            "2     -0.410486     0.680936    -0.425796    -1.242070    -0.864994   \n",
            "3     -0.410486    -0.283419    -0.425796     0.040400     1.136694   \n",
            "4     -0.410486     0.727272     1.273738     0.247095    -0.501613   \n",
            "\n",
            "   HeavyAtomCount  NumHDonors  NumHeteroatoms    fr_NH0    fr_NH1    fr_NH2  \\\n",
            "0       -0.563617   -0.708531       -0.139218 -1.402517 -1.344444 -0.476384   \n",
            "1       -0.043691   -1.630009        0.243832  0.782747 -1.344444 -0.476384   \n",
            "2       -0.563617    2.055902       -0.522267 -1.402517  1.487217  2.043158   \n",
            "3        0.476234    1.134424        1.392980  0.236431  1.487217 -0.476384   \n",
            "4       -0.390308    1.134424       -0.139218 -1.402517  0.543330  2.043158   \n",
            "\n",
            "   fr_halogen  fr_nitrile  \n",
            "0    0.051250   -0.092057  \n",
            "1   -0.590726   -0.092057  \n",
            "2   -0.590726   -0.092057  \n",
            "3    1.335202   -0.092057  \n",
            "4    1.335202   -0.092057  \n"
          ]
        }
      ]
    },
    {
      "cell_type": "markdown",
      "source": [
        "## PCA"
      ],
      "metadata": {
        "id": "N-wOA56dTswf"
      }
    },
    {
      "cell_type": "code",
      "source": [
        "from sklearn.decomposition import PCA\n",
        "pca = PCA(n_components=0.95)  # can be changed"
      ],
      "metadata": {
        "id": "lO5NjDH3TuwJ"
      },
      "execution_count": null,
      "outputs": []
    },
    {
      "cell_type": "code",
      "source": [
        "X_train_pca = pca.fit_transform(X_train_scaled)\n",
        "print(f'Number of components selected: {pca.n_components_}') # inspect number of components"
      ],
      "metadata": {
        "colab": {
          "base_uri": "https://localhost:8080/"
        },
        "id": "UhE_OJepUoyU",
        "outputId": "302a04f7-3e58-42ed-f1b1-b97566a7c89d"
      },
      "execution_count": null,
      "outputs": [
        {
          "output_type": "stream",
          "name": "stdout",
          "text": [
            "Number of components selected: 21\n"
          ]
        }
      ]
    },
    {
      "cell_type": "code",
      "source": [
        "X_test_pca = pca.transform(X_test_scaled)"
      ],
      "metadata": {
        "id": "VjcqZ4DQk5dl"
      },
      "execution_count": null,
      "outputs": []
    },
    {
      "cell_type": "code",
      "source": [
        "print(f\"Explained Variance Ratio: {pca.explained_variance_ratio_}\")\n",
        "print(f\"Total Explained Variance: {pca.explained_variance_ratio_.sum()}\")"
      ],
      "metadata": {
        "colab": {
          "base_uri": "https://localhost:8080/"
        },
        "id": "_pyS0GI5lAAT",
        "outputId": "04de510d-32d3-44df-accf-d1c6fb4409ad"
      },
      "execution_count": null,
      "outputs": [
        {
          "output_type": "stream",
          "name": "stdout",
          "text": [
            "Explained Variance Ratio: [0.20994579 0.10935928 0.09780272 0.08050155 0.06696448 0.05871687\n",
            " 0.04586245 0.03860792 0.03555938 0.03088196 0.0274602  0.02255915\n",
            " 0.02037186 0.01739544 0.01613524 0.01570296 0.01388227 0.01267711\n",
            " 0.01125673 0.01014167 0.00882258]\n",
            "Total Explained Variance: 0.9506076158898933\n"
          ]
        }
      ]
    },
    {
      "cell_type": "code",
      "source": [
        "import pandas as pd\n",
        "from sklearn.decomposition import PCA\n",
        "\n",
        "# Misalkan X_train_scaled sudah diskalakan dan memiliki kolom asli\n",
        "columns_original = X_train.columns\n",
        "\n",
        "# Melakukan PCA pada data yang sudah diskalakan\n",
        "pca = PCA(n_components=0.95)  # Sesuaikan dengan jumlah komponen yang diinginkan\n",
        "X_train_pca = pca.fit_transform(X_train_scaled)\n",
        "\n",
        "# Membuat DataFrame dari hasil PCA dengan nama kolom yang sesuai\n",
        "component_names = [f'PC{i+1}' for i in range(pca.n_components_)]\n",
        "X_train_pca_df = pd.DataFrame(X_train_pca, columns=component_names)\n",
        "\n",
        "# Menampilkan jumlah komponen yang dipilih dan beberapa baris dari DataFrame baru\n",
        "print(f'Number of components selected: {pca.n_components_}')\n",
        "print(X_train_pca_df.head())\n",
        "\n",
        "# Melihat kontribusi kolom asli terhadap komponen utama\n",
        "pca_components_df = pd.DataFrame(pca.components_, columns=columns_original, index=component_names)\n",
        "print(pca_components_df)\n",
        "\n",
        "# Variansi yang dijelaskan oleh masing-masing komponen\n",
        "explained_variance = pca.explained_variance_ratio_\n",
        "print(f'Explained variance by component: {explained_variance}')"
      ],
      "metadata": {
        "colab": {
          "base_uri": "https://localhost:8080/"
        },
        "id": "x09XWTtC3QZa",
        "outputId": "c9448a48-da37-460c-bc14-7a92e3abf8ad"
      },
      "execution_count": null,
      "outputs": [
        {
          "output_type": "stream",
          "name": "stdout",
          "text": [
            "Number of components selected: 21\n",
            "        PC1       PC2       PC3       PC4       PC5       PC6       PC7  \\\n",
            "0  2.039478  0.621690  3.191975 -2.141677 -0.101607 -1.968826 -0.704987   \n",
            "1  3.109550 -3.524819 -0.122960  1.380945  0.187717  1.459321 -0.930669   \n",
            "2  0.484696 -0.687835 -2.913762 -3.372904 -0.091964  1.388206  2.219863   \n",
            "3  1.362331 -2.254371 -2.208715  0.166014 -2.069524  1.240866  1.430382   \n",
            "4  0.257392  0.545962  1.574950  0.863090  2.490869 -3.141411  1.902527   \n",
            "\n",
            "        PC8       PC9      PC10      PC11      PC12      PC13      PC14  \\\n",
            "0 -1.051962 -1.099825  1.695829 -0.874367  0.280884  0.079126  0.413085   \n",
            "1 -1.595017 -0.747184  0.299771 -0.101418  0.146767  0.043279 -0.174271   \n",
            "2 -1.993127  0.635194  1.342767 -1.263938 -0.402548  1.870157 -0.665962   \n",
            "3  0.101562 -0.784126 -1.202908  0.450029  0.557647  1.047667 -1.404221   \n",
            "4  0.641123 -0.549094  0.306088 -2.630411  1.767102 -1.348373 -2.056035   \n",
            "\n",
            "       PC15      PC16      PC17      PC18      PC19      PC20      PC21  \n",
            "0  0.019963 -0.305620  0.278314 -0.150279  0.087578 -1.621545  1.110450  \n",
            "1  0.174204  1.792584  0.079018  0.175459  0.005539  0.398593 -0.380723  \n",
            "2  0.038888 -0.560141 -0.122320  0.264607  0.377971  0.430427  0.085955  \n",
            "3 -2.193855 -0.302503  0.505801 -2.189548 -0.022892  0.210987 -0.156857  \n",
            "4  0.761394 -0.212462  0.222698  0.826965  0.121309  1.114461  0.041057  \n",
            "      NumValenceElectrons     Chi0n  PEOE_VSA1  PEOE_VSA10  PEOE_VSA11  \\\n",
            "PC1             -0.296662 -0.262270  -0.069460    0.014391   -0.032284   \n",
            "PC2             -0.054040 -0.132793   0.100193    0.109691    0.121998   \n",
            "PC3              0.035628 -0.142266  -0.274347   -0.151564    0.048478   \n",
            "PC4             -0.033310 -0.036950  -0.221065    0.001133   -0.229977   \n",
            "PC5              0.022717  0.003675  -0.160774   -0.047973    0.119912   \n",
            "PC6              0.037881  0.078059   0.032982   -0.035455   -0.067977   \n",
            "PC7              0.079386  0.021237  -0.026810    0.270083    0.111861   \n",
            "PC8              0.034598  0.133130   0.030693    0.007425    0.079093   \n",
            "PC9              0.094895 -0.001618   0.172592    0.271479   -0.126763   \n",
            "PC10            -0.003913  0.008940   0.096363   -0.243433    0.338862   \n",
            "PC11            -0.034571 -0.065546  -0.153345   -0.338349   -0.190142   \n",
            "PC12            -0.041442  0.048652  -0.132964   -0.143433   -0.068289   \n",
            "PC13             0.005889  0.028202   0.100036   -0.228875    0.168730   \n",
            "PC14            -0.027292 -0.006720   0.109026   -0.015192    0.065302   \n",
            "PC15            -0.016441 -0.058168  -0.026280   -0.012300   -0.100689   \n",
            "PC16            -0.027110 -0.050170   0.012088    0.317702   -0.150414   \n",
            "PC17             0.047675  0.009966  -0.007993   -0.093864    0.400845   \n",
            "PC18             0.029841 -0.013701   0.031696    0.069273    0.103952   \n",
            "PC19            -0.035342 -0.045512   0.027188   -0.131981   -0.141010   \n",
            "PC20             0.035019  0.029019   0.022519    0.001539   -0.067901   \n",
            "PC21             0.045805  0.064680   0.251986   -0.293725   -0.348722   \n",
            "\n",
            "      PEOE_VSA12  PEOE_VSA13  PEOE_VSA14  PEOE_VSA2  PEOE_VSA3  PEOE_VSA4  \\\n",
            "PC1    -0.010211   -0.064087   -0.140299  -0.139482  -0.079353  -0.174834   \n",
            "PC2     0.268626   -0.204315    0.012941  -0.125605   0.143103   0.042143   \n",
            "PC3    -0.031200    0.031769    0.273893   0.162563  -0.032403   0.139976   \n",
            "PC4     0.112436   -0.151989    0.083478  -0.141470   0.189964   0.065814   \n",
            "PC5    -0.132256    0.029250   -0.148535   0.036171   0.242237  -0.078464   \n",
            "PC6    -0.038714    0.250250   -0.208241   0.224442  -0.097862  -0.287983   \n",
            "PC7    -0.155752   -0.057024    0.072253  -0.062568  -0.121781   0.111842   \n",
            "PC8     0.086179   -0.291984   -0.007669  -0.071557   0.048550  -0.220634   \n",
            "PC9     0.037149    0.085821   -0.000094  -0.101112   0.296208  -0.094870   \n",
            "PC10   -0.141169    0.095065    0.046302   0.046021  -0.183074   0.150034   \n",
            "PC11    0.251841   -0.064667   -0.036154   0.209638  -0.160952   0.066470   \n",
            "PC12   -0.041510   -0.051517   -0.159144  -0.115708   0.059004   0.041450   \n",
            "PC13    0.139482   -0.002527   -0.083333   0.116094  -0.188761   0.019291   \n",
            "PC14   -0.257028    0.010354    0.071556  -0.094077  -0.049430  -0.014617   \n",
            "PC15   -0.199431    0.133959   -0.057822  -0.184818  -0.125080   0.176490   \n",
            "PC16    0.009836    0.285332   -0.108501   0.139425   0.122566  -0.086708   \n",
            "PC17    0.337111   -0.131684   -0.100177  -0.042592   0.121491  -0.038271   \n",
            "PC18    0.086073    0.262820   -0.065471   0.076771  -0.023733   0.042835   \n",
            "PC19   -0.071899    0.093006   -0.024961   0.035884  -0.179233   0.068778   \n",
            "PC20    0.194430   -0.208319    0.163037   0.059420   0.022371  -0.068911   \n",
            "PC21    0.098444    0.063787    0.175215  -0.326836  -0.093349   0.120013   \n",
            "\n",
            "      PEOE_VSA5  PEOE_VSA6  PEOE_VSA7  PEOE_VSA8  PEOE_VSA9  SMR_VSA1  \\\n",
            "PC1    0.001265   0.025148  -0.139886  -0.221515  -0.075632 -0.254078   \n",
            "PC2    0.077040  -0.090117  -0.186137  -0.093218  -0.021880 -0.104867   \n",
            "PC3    0.190462   0.164605   0.035877  -0.168993   0.026829 -0.028391   \n",
            "PC4    0.058847  -0.128538  -0.064668   0.112326  -0.038557 -0.003246   \n",
            "PC5    0.160525  -0.089323   0.072257   0.085019   0.009340 -0.206607   \n",
            "PC6    0.152064   0.243568  -0.053958   0.094833   0.087543 -0.012802   \n",
            "PC7    0.149879   0.247982  -0.120054  -0.165736   0.269377  0.121686   \n",
            "PC8    0.220679   0.134628   0.252271   0.057789  -0.197950  0.041785   \n",
            "PC9   -0.038165  -0.096106  -0.015943  -0.079541   0.345219  0.055066   \n",
            "PC10  -0.001672  -0.086683  -0.095654   0.072631  -0.051640  0.016850   \n",
            "PC11   0.021507  -0.149574   0.064231   0.106720  -0.007427 -0.102835   \n",
            "PC12  -0.354410   0.088191   0.066940  -0.010081   0.241288 -0.116492   \n",
            "PC13   0.163994  -0.211084  -0.027412  -0.064418   0.413596  0.112104   \n",
            "PC14   0.371498  -0.304693   0.107474   0.089566  -0.097903 -0.025994   \n",
            "PC15  -0.032683  -0.202805   0.319600  -0.019637   0.030170 -0.089704   \n",
            "PC16  -0.035942  -0.039326  -0.290901   0.032440  -0.243778  0.033079   \n",
            "PC17  -0.144923   0.106419  -0.029676   0.007716  -0.088867  0.040072   \n",
            "PC18  -0.193180  -0.275875   0.450100  -0.021247  -0.293366  0.068385   \n",
            "PC19   0.200966  -0.047592  -0.221669   0.023918   0.187296 -0.003588   \n",
            "PC20   0.351672  -0.124609  -0.066267   0.141634  -0.157549  0.005777   \n",
            "PC21  -0.000400   0.282466  -0.141257   0.218822  -0.151720  0.017127   \n",
            "\n",
            "      SMR_VSA10  SMR_VSA2  SMR_VSA3  SMR_VSA4  SMR_VSA5  SMR_VSA6  SMR_VSA7  \\\n",
            "PC1   -0.020156  0.123139 -0.199647 -0.039012 -0.196218 -0.145561 -0.059821   \n",
            "PC2    0.289773 -0.015274  0.094157  0.059107  0.040732  0.019418 -0.293396   \n",
            "PC3    0.172760  0.015495 -0.122385 -0.000908  0.014889 -0.307205  0.226848   \n",
            "PC4   -0.029847  0.040616 -0.047091 -0.037864  0.034173  0.116087 -0.063848   \n",
            "PC5    0.022143 -0.106906  0.299997 -0.002701 -0.092081 -0.065074  0.121927   \n",
            "PC6    0.310874  0.003868 -0.040552 -0.022993 -0.119552  0.155871  0.072002   \n",
            "PC7    0.019331  0.215492  0.051538 -0.065052  0.057524 -0.025955 -0.097877   \n",
            "PC8    0.049072  0.284563 -0.128742  0.378280  0.313984 -0.142491  0.006458   \n",
            "PC9    0.063896  0.231146 -0.076233 -0.066207 -0.187790  0.004748  0.193413   \n",
            "PC10  -0.014477  0.353649 -0.025444 -0.025961 -0.147518  0.178071 -0.017075   \n",
            "PC11   0.016681  0.229493  0.094596 -0.009275 -0.123262 -0.005887 -0.043340   \n",
            "PC12  -0.068179 -0.043802  0.084418 -0.143013  0.334792 -0.081952 -0.081355   \n",
            "PC13  -0.029284 -0.156801 -0.049265  0.451034 -0.027663  0.061680 -0.087286   \n",
            "PC14   0.004195 -0.026899 -0.087584 -0.246478  0.036196  0.055452 -0.005092   \n",
            "PC15   0.036003 -0.140949 -0.020960  0.461885 -0.076348  0.036557 -0.053498   \n",
            "PC16  -0.135561  0.111559  0.113417  0.393219  0.054426 -0.103730 -0.105825   \n",
            "PC17   0.061950 -0.205580 -0.095390 -0.118667 -0.146203  0.092001  0.063554   \n",
            "PC18   0.112397  0.195242  0.026610 -0.213903  0.051195 -0.057002 -0.065027   \n",
            "PC19  -0.142129 -0.057623  0.126040 -0.229731  0.143677 -0.109937 -0.096464   \n",
            "PC20  -0.073300  0.022259  0.098084 -0.101568  0.046751 -0.058292 -0.000939   \n",
            "PC21  -0.020523  0.075740 -0.051433  0.066319 -0.065638  0.091681  0.042207   \n",
            "\n",
            "      SMR_VSA9  SlogP_VSA1  SlogP_VSA10  SlogP_VSA11  SlogP_VSA12  SlogP_VSA2  \\\n",
            "PC1   0.054012   -0.070578    -0.198804     0.147996     0.046198   -0.191276   \n",
            "PC2  -0.163497    0.167165     0.091336    -0.076456     0.237693    0.034889   \n",
            "PC3  -0.098111   -0.178681     0.089936    -0.204028     0.168041   -0.240369   \n",
            "PC4  -0.192948   -0.281136     0.007446    -0.077750     0.089747    0.110068   \n",
            "PC5   0.114117   -0.127192    -0.018232    -0.158868    -0.020439    0.020794   \n",
            "PC6  -0.258953   -0.108530    -0.251429    -0.130411     0.339112    0.199006   \n",
            "PC7   0.254951   -0.148564    -0.213544     0.245023     0.109543    0.106498   \n",
            "PC8   0.020385    0.029182    -0.063869     0.084716     0.069512   -0.145584   \n",
            "PC9   0.114367    0.147863     0.164435     0.141411     0.020526   -0.032832   \n",
            "PC10 -0.146932   -0.087595     0.041277    -0.070019    -0.105267    0.119542   \n",
            "PC11  0.164487    0.005664    -0.061583    -0.029344     0.081353    0.030036   \n",
            "PC12 -0.006393    0.018614    -0.089230    -0.242156    -0.039267   -0.112175   \n",
            "PC13 -0.003311    0.063347    -0.090558     0.042234    -0.080569    0.060728   \n",
            "PC14 -0.093100    0.136744     0.140389     0.063026     0.058809   -0.077424   \n",
            "PC15  0.141112   -0.021364     0.085979     0.047036     0.185912   -0.056676   \n",
            "PC16 -0.009650   -0.161872    -0.040389    -0.173117    -0.155027    0.088165   \n",
            "PC17  0.112821    0.061643    -0.017126     0.050066     0.006896    0.017870   \n",
            "PC18  0.074010   -0.097882    -0.196371     0.141303     0.120471    0.098717   \n",
            "PC19  0.130711    0.029215    -0.123102     0.103351    -0.013414   -0.021335   \n",
            "PC20  0.193224   -0.107821    -0.015047     0.054931    -0.052716    0.088736   \n",
            "PC21  0.202253   -0.009121     0.045553    -0.044676     0.047880    0.062121   \n",
            "\n",
            "      SlogP_VSA3  SlogP_VSA4  SlogP_VSA5  SlogP_VSA6  SlogP_VSA7  SlogP_VSA8  \\\n",
            "PC1    -0.197224   -0.023233   -0.223560   -0.014589   -0.057026    0.000814   \n",
            "PC2     0.045697   -0.025776   -0.160230   -0.293884    0.249078   -0.064430   \n",
            "PC3     0.057210    0.168094   -0.007667    0.131940    0.082828    0.042477   \n",
            "PC4     0.156236    0.100456    0.030204   -0.132246   -0.252026   -0.228969   \n",
            "PC5    -0.196832    0.159885   -0.063608    0.171192   -0.080653    0.266708   \n",
            "PC6    -0.097084   -0.042702    0.078573    0.022286    0.151094   -0.160571   \n",
            "PC7     0.085231   -0.136720    0.026569   -0.128353    0.017647    0.317935   \n",
            "PC8     0.058820    0.239608    0.219838   -0.011434   -0.068004   -0.039139   \n",
            "PC9    -0.171419    0.178031   -0.077745    0.212827   -0.048474   -0.130944   \n",
            "PC10   -0.038625    0.264559    0.000618   -0.122827   -0.117326   -0.052487   \n",
            "PC11    0.083224   -0.185651   -0.220247    0.059279    0.126838    0.155038   \n",
            "PC12    0.057462    0.014214    0.229849   -0.087992    0.114485    0.051248   \n",
            "PC13    0.115833   -0.036051   -0.027610    0.017421   -0.240815    0.046986   \n",
            "PC14   -0.045908   -0.150315    0.075681   -0.067441   -0.050170   -0.153443   \n",
            "PC15   -0.227308    0.124143   -0.061588   -0.062726    0.260778   -0.003482   \n",
            "PC16   -0.068131    0.120034   -0.002465   -0.105275    0.050388    0.053244   \n",
            "PC17   -0.071366    0.433295   -0.114758   -0.005998    0.078854    0.073409   \n",
            "PC18   -0.065839    0.024030    0.082132   -0.113335   -0.052215    0.056077   \n",
            "PC19   -0.189084    0.498343    0.151534   -0.330019    0.061987   -0.094800   \n",
            "PC20   -0.146987   -0.071937   -0.043509    0.045981    0.058942    0.194039   \n",
            "PC21   -0.138446    0.043070   -0.009585    0.132676    0.004946   -0.056900   \n",
            "\n",
            "      EState_VSA10  EState_VSA11  EState_VSA2  EState_VSA3  EState_VSA8  \\\n",
            "PC1      -0.098704     -0.154177     0.004649    -0.000457     0.010664   \n",
            "PC2       0.042093     -0.074026     0.223318     0.079130     0.210679   \n",
            "PC3       0.322717     -0.076543     0.022020     0.056043    -0.012576   \n",
            "PC4      -0.008478      0.097534    -0.164901     0.010545     0.188796   \n",
            "PC5      -0.209684      0.078815     0.301772     0.246170     0.229033   \n",
            "PC6      -0.001184     -0.095768     0.048057    -0.030245    -0.023500   \n",
            "PC7      -0.023220      0.143558    -0.026485     0.248939     0.053851   \n",
            "PC8      -0.128284      0.050334     0.078495    -0.000969     0.062065   \n",
            "PC9       0.162781     -0.188729     0.018798    -0.091048     0.123012   \n",
            "PC10      0.011686      0.070425     0.115074    -0.188308    -0.004009   \n",
            "PC11     -0.091259      0.113422    -0.183222     0.070524    -0.039567   \n",
            "PC12      0.096922     -0.420530     0.026252     0.094993    -0.036603   \n",
            "PC13      0.174359     -0.286944    -0.058905     0.152794     0.122275   \n",
            "PC14      0.040880     -0.109664     0.104832     0.500694    -0.355873   \n",
            "PC15     -0.057557      0.050014     0.039900    -0.149270    -0.063768   \n",
            "PC16      0.214795     -0.021579    -0.133695     0.246643    -0.283284   \n",
            "PC17      0.024688      0.043594    -0.277811     0.239858    -0.256598   \n",
            "PC18      0.168772     -0.216644    -0.148163     0.099937     0.291816   \n",
            "PC19     -0.048831      0.029434     0.010721    -0.111779     0.054291   \n",
            "PC20      0.191951     -0.381271     0.047041    -0.390261    -0.215149   \n",
            "PC21      0.004648     -0.145308    -0.018166     0.351118     0.221722   \n",
            "\n",
            "      EState_VSA9  HeavyAtomCount  NumHDonors  NumHeteroatoms    fr_NH0  \\\n",
            "PC1     -0.187316       -0.288430   -0.073554       -0.239611 -0.174989   \n",
            "PC2      0.003164       -0.074554    0.153402        0.209826  0.074838   \n",
            "PC3     -0.165004        0.052850    0.017726        0.099051 -0.145889   \n",
            "PC4     -0.077216       -0.056663   -0.376894        0.040946  0.185639   \n",
            "PC5     -0.136150        0.068047   -0.018154        0.029153  0.310800   \n",
            "PC6      0.234319        0.031961   -0.090545       -0.002302 -0.014410   \n",
            "PC7      0.107352        0.069820   -0.111809        0.091202  0.016063   \n",
            "PC8      0.090142        0.031514    0.103682       -0.097648 -0.074515   \n",
            "PC9     -0.017067        0.115929   -0.001286        0.098217  0.003377   \n",
            "PC10    -0.141685       -0.004577    0.052358       -0.000494  0.025991   \n",
            "PC11     0.095354       -0.034920    0.108712        0.058739  0.032076   \n",
            "PC12     0.082769       -0.034858   -0.110146       -0.119691  0.101461   \n",
            "PC13    -0.159633       -0.000751   -0.091112        0.015545 -0.018402   \n",
            "PC14     0.026737       -0.029419   -0.078100       -0.051458 -0.014017   \n",
            "PC15     0.229127       -0.019028   -0.218572       -0.019569  0.049861   \n",
            "PC16    -0.103117       -0.032533    0.064127        0.047908  0.012658   \n",
            "PC17     0.188105        0.055661   -0.188424        0.011861 -0.043195   \n",
            "PC18    -0.072806        0.020694    0.099995        0.078554 -0.044400   \n",
            "PC19     0.030350       -0.045224    0.107841        0.033343 -0.025546   \n",
            "PC20     0.149526        0.039301   -0.097314        0.064370  0.167078   \n",
            "PC21    -0.016878        0.049217    0.090949       -0.035865 -0.027491   \n",
            "\n",
            "        fr_NH1    fr_NH2  fr_halogen  fr_nitrile  \n",
            "PC1  -0.147781  0.028057   -0.167700    0.010160  \n",
            "PC2   0.121360  0.141223    0.085389    0.028574  \n",
            "PC3  -0.004236  0.007658    0.237598   -0.035756  \n",
            "PC4  -0.311052 -0.234726    0.074648    0.027027  \n",
            "PC5   0.017523  0.026215   -0.153729   -0.033522  \n",
            "PC6  -0.075470 -0.052981   -0.156089   -0.001659  \n",
            "PC7  -0.203950  0.056385    0.110643    0.144283  \n",
            "PC8   0.047964 -0.131263   -0.179280    0.136159  \n",
            "PC9   0.060555 -0.234770    0.012008    0.303706  \n",
            "PC10 -0.105992  0.289730   -0.028947    0.429361  \n",
            "PC11  0.227048 -0.335784    0.024980    0.351383  \n",
            "PC12 -0.015460  0.094126   -0.062167    0.345522  \n",
            "PC13 -0.031780 -0.055587   -0.134308   -0.133314  \n",
            "PC14  0.019902 -0.124011    0.024133    0.123787  \n",
            "PC15 -0.149582  0.050734    0.261570    0.059171  \n",
            "PC16  0.050438 -0.022487    0.031319    0.111581  \n",
            "PC17 -0.078157 -0.021839    0.007526   -0.006608  \n",
            "PC18 -0.059549  0.010173    0.021728   -0.173221  \n",
            "PC19  0.174072 -0.255341    0.039114   -0.197406  \n",
            "PC20 -0.188034  0.172405   -0.081375   -0.037849  \n",
            "PC21 -0.046589  0.199905    0.030489   -0.078257  \n",
            "Explained variance by component: [0.20994579 0.10935928 0.09780272 0.08050155 0.06696448 0.05871687\n",
            " 0.04586245 0.03860792 0.03555938 0.03088196 0.0274602  0.02255915\n",
            " 0.02037186 0.01739544 0.01613524 0.01570296 0.01388227 0.01267711\n",
            " 0.01125673 0.01014167 0.00882258]\n"
          ]
        }
      ]
    },
    {
      "cell_type": "markdown",
      "source": [
        "## New DataFrame"
      ],
      "metadata": {
        "id": "reUCYIXRnIR2"
      }
    },
    {
      "cell_type": "code",
      "source": [
        "import pandas as pd\n",
        "\n",
        "X_train_pca_df = pd.DataFrame(X_train_pca)  # Create DataFrame from the PCA-transformed training set\n",
        "X_test_pca_df = pd.DataFrame(X_test_pca)    # Create DataFrame from the PCA-transformed testing set\n",
        "\n",
        "# Add column names\n",
        "n_components = X_train_pca.shape[1]\n",
        "X_train_pca_df.columns = [f'PC{i+1}' for i in range(n_components)]\n",
        "X_test_pca_df.columns = [f'PC{i+1}' for i in range(n_components)]\n",
        "\n",
        "X_train_pca_df['ic50'] = y_train.reset_index(drop=True)\n",
        "X_test_pca_df['ic50'] = y_test.reset_index(drop=True)"
      ],
      "metadata": {
        "id": "9hW2w0yQnKuH"
      },
      "execution_count": null,
      "outputs": []
    },
    {
      "cell_type": "code",
      "source": [
        "X_test_pca_df"
      ],
      "metadata": {
        "colab": {
          "base_uri": "https://localhost:8080/",
          "height": 443
        },
        "id": "FPMSkalC2Y-f",
        "outputId": "c42c4e41-58d5-4f5d-ea18-bf43a7b0f528"
      },
      "execution_count": null,
      "outputs": [
        {
          "output_type": "execute_result",
          "data": {
            "text/plain": [
              "          PC1       PC2       PC3       PC4       PC5       PC6       PC7  \\\n",
              "0    3.616395 -0.207237  5.524081  1.654419 -0.161287  1.279779 -0.544880   \n",
              "1    0.533475  1.310766 -1.979003  3.538443 -0.423482  1.248341  0.860152   \n",
              "2    1.942377  0.249868  0.534504 -4.772802  0.364757  0.283454 -1.028525   \n",
              "3   -3.027693  3.485090  0.919090 -0.381391 -2.261693 -0.640742  0.576336   \n",
              "4    1.532084  1.699130  3.694993 -2.488740 -0.519006 -0.839070 -0.051748   \n",
              "..        ...       ...       ...       ...       ...       ...       ...   \n",
              "115  2.198123 -0.376200 -2.771071 -0.877153  0.380422 -0.617179  1.794315   \n",
              "116 -1.459517  4.864633  0.234314 -3.281959  0.126312  1.898722  0.515684   \n",
              "117 -3.451756  0.591542 -3.122226  1.312854 -2.696552 -1.577096  0.311715   \n",
              "118 -3.616911 -1.206345 -1.021245  2.381982 -2.047836  0.060214 -0.863105   \n",
              "119  1.137479 -1.148824 -1.661205 -2.983442  0.454148  1.441646  0.999479   \n",
              "\n",
              "          PC8       PC9      PC10      PC11      PC12      PC13      PC14  \\\n",
              "0    1.144090  0.612790  1.196933 -0.594990 -0.547969 -0.416289 -1.175866   \n",
              "1   -0.935847  1.035018 -1.015111  0.346961  0.574502  1.471622 -2.389591   \n",
              "2   -1.271638 -0.808241  1.369601 -0.505648 -0.028622 -0.279198 -0.406704   \n",
              "3    1.750421 -0.089730 -1.762472  0.323424  0.555375  0.755072 -1.185718   \n",
              "4   -1.114814 -1.032820  1.209817 -0.513264  0.496326 -0.591361  0.276966   \n",
              "..        ...       ...       ...       ...       ...       ...       ...   \n",
              "115  1.593116 -0.866000 -1.361626 -3.363227  1.457285 -2.029800 -0.309297   \n",
              "116  2.254599 -0.922834 -1.477075  2.036331  0.599987  0.898433 -1.651796   \n",
              "117  0.806361 -0.386924 -0.752960  0.209601 -2.262428 -1.469075  0.153498   \n",
              "118 -0.502436 -0.273572  0.128237 -0.916560  1.007424  0.162136  1.213887   \n",
              "119 -1.802973 -0.500887  1.526038 -0.792699  0.046133  1.270520 -0.467509   \n",
              "\n",
              "         PC15      PC16      PC17      PC18      PC19      PC20      PC21  \\\n",
              "0   -0.798765 -1.237686  0.012166  0.410388 -0.567806 -0.357673  0.317032   \n",
              "1   -0.999441 -1.934279  1.087005 -1.022236 -1.420393 -0.011538  1.678287   \n",
              "2   -0.547124  0.910920  0.171726  0.078661  0.110164 -0.590106 -0.660172   \n",
              "3    0.233178  1.433662 -0.356739 -1.530032  1.019647  0.647090  0.226876   \n",
              "4    1.001614 -0.662951  0.704005 -0.227042  0.267828 -1.630401  1.167466   \n",
              "..        ...       ...       ...       ...       ...       ...       ...   \n",
              "115 -0.107881  0.287356 -0.712222 -0.571052 -1.497391  1.415586 -0.061749   \n",
              "116  1.188482  0.268807  0.226225 -1.136002  1.189230  0.269993 -1.093379   \n",
              "117 -1.003163 -0.355429  0.490047 -0.867626 -0.417956 -0.283361 -0.273708   \n",
              "118 -0.180940 -0.026451 -0.964432 -0.007006 -0.428499  0.117647 -0.219209   \n",
              "119  0.245265 -0.366499 -0.163500  0.425264 -0.299095  0.385275 -0.202295   \n",
              "\n",
              "          ic50  \n",
              "0     20000.00  \n",
              "1       320.00  \n",
              "2    100000.00  \n",
              "3        41.50  \n",
              "4      1420.00  \n",
              "..         ...  \n",
              "115   10000.00  \n",
              "116     199.86  \n",
              "117   10000.00  \n",
              "118   10000.00  \n",
              "119  100000.00  \n",
              "\n",
              "[120 rows x 22 columns]"
            ],
            "text/html": [
              "\n",
              "  <div id=\"df-ceaaf7ec-efe2-4417-9fad-e0568615cafb\" class=\"colab-df-container\">\n",
              "    <div>\n",
              "<style scoped>\n",
              "    .dataframe tbody tr th:only-of-type {\n",
              "        vertical-align: middle;\n",
              "    }\n",
              "\n",
              "    .dataframe tbody tr th {\n",
              "        vertical-align: top;\n",
              "    }\n",
              "\n",
              "    .dataframe thead th {\n",
              "        text-align: right;\n",
              "    }\n",
              "</style>\n",
              "<table border=\"1\" class=\"dataframe\">\n",
              "  <thead>\n",
              "    <tr style=\"text-align: right;\">\n",
              "      <th></th>\n",
              "      <th>PC1</th>\n",
              "      <th>PC2</th>\n",
              "      <th>PC3</th>\n",
              "      <th>PC4</th>\n",
              "      <th>PC5</th>\n",
              "      <th>PC6</th>\n",
              "      <th>PC7</th>\n",
              "      <th>PC8</th>\n",
              "      <th>PC9</th>\n",
              "      <th>PC10</th>\n",
              "      <th>PC11</th>\n",
              "      <th>PC12</th>\n",
              "      <th>PC13</th>\n",
              "      <th>PC14</th>\n",
              "      <th>PC15</th>\n",
              "      <th>PC16</th>\n",
              "      <th>PC17</th>\n",
              "      <th>PC18</th>\n",
              "      <th>PC19</th>\n",
              "      <th>PC20</th>\n",
              "      <th>PC21</th>\n",
              "      <th>ic50</th>\n",
              "    </tr>\n",
              "  </thead>\n",
              "  <tbody>\n",
              "    <tr>\n",
              "      <th>0</th>\n",
              "      <td>3.616395</td>\n",
              "      <td>-0.207237</td>\n",
              "      <td>5.524081</td>\n",
              "      <td>1.654419</td>\n",
              "      <td>-0.161287</td>\n",
              "      <td>1.279779</td>\n",
              "      <td>-0.544880</td>\n",
              "      <td>1.144090</td>\n",
              "      <td>0.612790</td>\n",
              "      <td>1.196933</td>\n",
              "      <td>-0.594990</td>\n",
              "      <td>-0.547969</td>\n",
              "      <td>-0.416289</td>\n",
              "      <td>-1.175866</td>\n",
              "      <td>-0.798765</td>\n",
              "      <td>-1.237686</td>\n",
              "      <td>0.012166</td>\n",
              "      <td>0.410388</td>\n",
              "      <td>-0.567806</td>\n",
              "      <td>-0.357673</td>\n",
              "      <td>0.317032</td>\n",
              "      <td>20000.00</td>\n",
              "    </tr>\n",
              "    <tr>\n",
              "      <th>1</th>\n",
              "      <td>0.533475</td>\n",
              "      <td>1.310766</td>\n",
              "      <td>-1.979003</td>\n",
              "      <td>3.538443</td>\n",
              "      <td>-0.423482</td>\n",
              "      <td>1.248341</td>\n",
              "      <td>0.860152</td>\n",
              "      <td>-0.935847</td>\n",
              "      <td>1.035018</td>\n",
              "      <td>-1.015111</td>\n",
              "      <td>0.346961</td>\n",
              "      <td>0.574502</td>\n",
              "      <td>1.471622</td>\n",
              "      <td>-2.389591</td>\n",
              "      <td>-0.999441</td>\n",
              "      <td>-1.934279</td>\n",
              "      <td>1.087005</td>\n",
              "      <td>-1.022236</td>\n",
              "      <td>-1.420393</td>\n",
              "      <td>-0.011538</td>\n",
              "      <td>1.678287</td>\n",
              "      <td>320.00</td>\n",
              "    </tr>\n",
              "    <tr>\n",
              "      <th>2</th>\n",
              "      <td>1.942377</td>\n",
              "      <td>0.249868</td>\n",
              "      <td>0.534504</td>\n",
              "      <td>-4.772802</td>\n",
              "      <td>0.364757</td>\n",
              "      <td>0.283454</td>\n",
              "      <td>-1.028525</td>\n",
              "      <td>-1.271638</td>\n",
              "      <td>-0.808241</td>\n",
              "      <td>1.369601</td>\n",
              "      <td>-0.505648</td>\n",
              "      <td>-0.028622</td>\n",
              "      <td>-0.279198</td>\n",
              "      <td>-0.406704</td>\n",
              "      <td>-0.547124</td>\n",
              "      <td>0.910920</td>\n",
              "      <td>0.171726</td>\n",
              "      <td>0.078661</td>\n",
              "      <td>0.110164</td>\n",
              "      <td>-0.590106</td>\n",
              "      <td>-0.660172</td>\n",
              "      <td>100000.00</td>\n",
              "    </tr>\n",
              "    <tr>\n",
              "      <th>3</th>\n",
              "      <td>-3.027693</td>\n",
              "      <td>3.485090</td>\n",
              "      <td>0.919090</td>\n",
              "      <td>-0.381391</td>\n",
              "      <td>-2.261693</td>\n",
              "      <td>-0.640742</td>\n",
              "      <td>0.576336</td>\n",
              "      <td>1.750421</td>\n",
              "      <td>-0.089730</td>\n",
              "      <td>-1.762472</td>\n",
              "      <td>0.323424</td>\n",
              "      <td>0.555375</td>\n",
              "      <td>0.755072</td>\n",
              "      <td>-1.185718</td>\n",
              "      <td>0.233178</td>\n",
              "      <td>1.433662</td>\n",
              "      <td>-0.356739</td>\n",
              "      <td>-1.530032</td>\n",
              "      <td>1.019647</td>\n",
              "      <td>0.647090</td>\n",
              "      <td>0.226876</td>\n",
              "      <td>41.50</td>\n",
              "    </tr>\n",
              "    <tr>\n",
              "      <th>4</th>\n",
              "      <td>1.532084</td>\n",
              "      <td>1.699130</td>\n",
              "      <td>3.694993</td>\n",
              "      <td>-2.488740</td>\n",
              "      <td>-0.519006</td>\n",
              "      <td>-0.839070</td>\n",
              "      <td>-0.051748</td>\n",
              "      <td>-1.114814</td>\n",
              "      <td>-1.032820</td>\n",
              "      <td>1.209817</td>\n",
              "      <td>-0.513264</td>\n",
              "      <td>0.496326</td>\n",
              "      <td>-0.591361</td>\n",
              "      <td>0.276966</td>\n",
              "      <td>1.001614</td>\n",
              "      <td>-0.662951</td>\n",
              "      <td>0.704005</td>\n",
              "      <td>-0.227042</td>\n",
              "      <td>0.267828</td>\n",
              "      <td>-1.630401</td>\n",
              "      <td>1.167466</td>\n",
              "      <td>1420.00</td>\n",
              "    </tr>\n",
              "    <tr>\n",
              "      <th>...</th>\n",
              "      <td>...</td>\n",
              "      <td>...</td>\n",
              "      <td>...</td>\n",
              "      <td>...</td>\n",
              "      <td>...</td>\n",
              "      <td>...</td>\n",
              "      <td>...</td>\n",
              "      <td>...</td>\n",
              "      <td>...</td>\n",
              "      <td>...</td>\n",
              "      <td>...</td>\n",
              "      <td>...</td>\n",
              "      <td>...</td>\n",
              "      <td>...</td>\n",
              "      <td>...</td>\n",
              "      <td>...</td>\n",
              "      <td>...</td>\n",
              "      <td>...</td>\n",
              "      <td>...</td>\n",
              "      <td>...</td>\n",
              "      <td>...</td>\n",
              "      <td>...</td>\n",
              "    </tr>\n",
              "    <tr>\n",
              "      <th>115</th>\n",
              "      <td>2.198123</td>\n",
              "      <td>-0.376200</td>\n",
              "      <td>-2.771071</td>\n",
              "      <td>-0.877153</td>\n",
              "      <td>0.380422</td>\n",
              "      <td>-0.617179</td>\n",
              "      <td>1.794315</td>\n",
              "      <td>1.593116</td>\n",
              "      <td>-0.866000</td>\n",
              "      <td>-1.361626</td>\n",
              "      <td>-3.363227</td>\n",
              "      <td>1.457285</td>\n",
              "      <td>-2.029800</td>\n",
              "      <td>-0.309297</td>\n",
              "      <td>-0.107881</td>\n",
              "      <td>0.287356</td>\n",
              "      <td>-0.712222</td>\n",
              "      <td>-0.571052</td>\n",
              "      <td>-1.497391</td>\n",
              "      <td>1.415586</td>\n",
              "      <td>-0.061749</td>\n",
              "      <td>10000.00</td>\n",
              "    </tr>\n",
              "    <tr>\n",
              "      <th>116</th>\n",
              "      <td>-1.459517</td>\n",
              "      <td>4.864633</td>\n",
              "      <td>0.234314</td>\n",
              "      <td>-3.281959</td>\n",
              "      <td>0.126312</td>\n",
              "      <td>1.898722</td>\n",
              "      <td>0.515684</td>\n",
              "      <td>2.254599</td>\n",
              "      <td>-0.922834</td>\n",
              "      <td>-1.477075</td>\n",
              "      <td>2.036331</td>\n",
              "      <td>0.599987</td>\n",
              "      <td>0.898433</td>\n",
              "      <td>-1.651796</td>\n",
              "      <td>1.188482</td>\n",
              "      <td>0.268807</td>\n",
              "      <td>0.226225</td>\n",
              "      <td>-1.136002</td>\n",
              "      <td>1.189230</td>\n",
              "      <td>0.269993</td>\n",
              "      <td>-1.093379</td>\n",
              "      <td>199.86</td>\n",
              "    </tr>\n",
              "    <tr>\n",
              "      <th>117</th>\n",
              "      <td>-3.451756</td>\n",
              "      <td>0.591542</td>\n",
              "      <td>-3.122226</td>\n",
              "      <td>1.312854</td>\n",
              "      <td>-2.696552</td>\n",
              "      <td>-1.577096</td>\n",
              "      <td>0.311715</td>\n",
              "      <td>0.806361</td>\n",
              "      <td>-0.386924</td>\n",
              "      <td>-0.752960</td>\n",
              "      <td>0.209601</td>\n",
              "      <td>-2.262428</td>\n",
              "      <td>-1.469075</td>\n",
              "      <td>0.153498</td>\n",
              "      <td>-1.003163</td>\n",
              "      <td>-0.355429</td>\n",
              "      <td>0.490047</td>\n",
              "      <td>-0.867626</td>\n",
              "      <td>-0.417956</td>\n",
              "      <td>-0.283361</td>\n",
              "      <td>-0.273708</td>\n",
              "      <td>10000.00</td>\n",
              "    </tr>\n",
              "    <tr>\n",
              "      <th>118</th>\n",
              "      <td>-3.616911</td>\n",
              "      <td>-1.206345</td>\n",
              "      <td>-1.021245</td>\n",
              "      <td>2.381982</td>\n",
              "      <td>-2.047836</td>\n",
              "      <td>0.060214</td>\n",
              "      <td>-0.863105</td>\n",
              "      <td>-0.502436</td>\n",
              "      <td>-0.273572</td>\n",
              "      <td>0.128237</td>\n",
              "      <td>-0.916560</td>\n",
              "      <td>1.007424</td>\n",
              "      <td>0.162136</td>\n",
              "      <td>1.213887</td>\n",
              "      <td>-0.180940</td>\n",
              "      <td>-0.026451</td>\n",
              "      <td>-0.964432</td>\n",
              "      <td>-0.007006</td>\n",
              "      <td>-0.428499</td>\n",
              "      <td>0.117647</td>\n",
              "      <td>-0.219209</td>\n",
              "      <td>10000.00</td>\n",
              "    </tr>\n",
              "    <tr>\n",
              "      <th>119</th>\n",
              "      <td>1.137479</td>\n",
              "      <td>-1.148824</td>\n",
              "      <td>-1.661205</td>\n",
              "      <td>-2.983442</td>\n",
              "      <td>0.454148</td>\n",
              "      <td>1.441646</td>\n",
              "      <td>0.999479</td>\n",
              "      <td>-1.802973</td>\n",
              "      <td>-0.500887</td>\n",
              "      <td>1.526038</td>\n",
              "      <td>-0.792699</td>\n",
              "      <td>0.046133</td>\n",
              "      <td>1.270520</td>\n",
              "      <td>-0.467509</td>\n",
              "      <td>0.245265</td>\n",
              "      <td>-0.366499</td>\n",
              "      <td>-0.163500</td>\n",
              "      <td>0.425264</td>\n",
              "      <td>-0.299095</td>\n",
              "      <td>0.385275</td>\n",
              "      <td>-0.202295</td>\n",
              "      <td>100000.00</td>\n",
              "    </tr>\n",
              "  </tbody>\n",
              "</table>\n",
              "<p>120 rows × 22 columns</p>\n",
              "</div>\n",
              "    <div class=\"colab-df-buttons\">\n",
              "\n",
              "  <div class=\"colab-df-container\">\n",
              "    <button class=\"colab-df-convert\" onclick=\"convertToInteractive('df-ceaaf7ec-efe2-4417-9fad-e0568615cafb')\"\n",
              "            title=\"Convert this dataframe to an interactive table.\"\n",
              "            style=\"display:none;\">\n",
              "\n",
              "  <svg xmlns=\"http://www.w3.org/2000/svg\" height=\"24px\" viewBox=\"0 -960 960 960\">\n",
              "    <path d=\"M120-120v-720h720v720H120Zm60-500h600v-160H180v160Zm220 220h160v-160H400v160Zm0 220h160v-160H400v160ZM180-400h160v-160H180v160Zm440 0h160v-160H620v160ZM180-180h160v-160H180v160Zm440 0h160v-160H620v160Z\"/>\n",
              "  </svg>\n",
              "    </button>\n",
              "\n",
              "  <style>\n",
              "    .colab-df-container {\n",
              "      display:flex;\n",
              "      gap: 12px;\n",
              "    }\n",
              "\n",
              "    .colab-df-convert {\n",
              "      background-color: #E8F0FE;\n",
              "      border: none;\n",
              "      border-radius: 50%;\n",
              "      cursor: pointer;\n",
              "      display: none;\n",
              "      fill: #1967D2;\n",
              "      height: 32px;\n",
              "      padding: 0 0 0 0;\n",
              "      width: 32px;\n",
              "    }\n",
              "\n",
              "    .colab-df-convert:hover {\n",
              "      background-color: #E2EBFA;\n",
              "      box-shadow: 0px 1px 2px rgba(60, 64, 67, 0.3), 0px 1px 3px 1px rgba(60, 64, 67, 0.15);\n",
              "      fill: #174EA6;\n",
              "    }\n",
              "\n",
              "    .colab-df-buttons div {\n",
              "      margin-bottom: 4px;\n",
              "    }\n",
              "\n",
              "    [theme=dark] .colab-df-convert {\n",
              "      background-color: #3B4455;\n",
              "      fill: #D2E3FC;\n",
              "    }\n",
              "\n",
              "    [theme=dark] .colab-df-convert:hover {\n",
              "      background-color: #434B5C;\n",
              "      box-shadow: 0px 1px 3px 1px rgba(0, 0, 0, 0.15);\n",
              "      filter: drop-shadow(0px 1px 2px rgba(0, 0, 0, 0.3));\n",
              "      fill: #FFFFFF;\n",
              "    }\n",
              "  </style>\n",
              "\n",
              "    <script>\n",
              "      const buttonEl =\n",
              "        document.querySelector('#df-ceaaf7ec-efe2-4417-9fad-e0568615cafb button.colab-df-convert');\n",
              "      buttonEl.style.display =\n",
              "        google.colab.kernel.accessAllowed ? 'block' : 'none';\n",
              "\n",
              "      async function convertToInteractive(key) {\n",
              "        const element = document.querySelector('#df-ceaaf7ec-efe2-4417-9fad-e0568615cafb');\n",
              "        const dataTable =\n",
              "          await google.colab.kernel.invokeFunction('convertToInteractive',\n",
              "                                                    [key], {});\n",
              "        if (!dataTable) return;\n",
              "\n",
              "        const docLinkHtml = 'Like what you see? Visit the ' +\n",
              "          '<a target=\"_blank\" href=https://colab.research.google.com/notebooks/data_table.ipynb>data table notebook</a>'\n",
              "          + ' to learn more about interactive tables.';\n",
              "        element.innerHTML = '';\n",
              "        dataTable['output_type'] = 'display_data';\n",
              "        await google.colab.output.renderOutput(dataTable, element);\n",
              "        const docLink = document.createElement('div');\n",
              "        docLink.innerHTML = docLinkHtml;\n",
              "        element.appendChild(docLink);\n",
              "      }\n",
              "    </script>\n",
              "  </div>\n",
              "\n",
              "\n",
              "<div id=\"df-c652dc12-2c8b-40bc-ba0a-9c0d77164780\">\n",
              "  <button class=\"colab-df-quickchart\" onclick=\"quickchart('df-c652dc12-2c8b-40bc-ba0a-9c0d77164780')\"\n",
              "            title=\"Suggest charts\"\n",
              "            style=\"display:none;\">\n",
              "\n",
              "<svg xmlns=\"http://www.w3.org/2000/svg\" height=\"24px\"viewBox=\"0 0 24 24\"\n",
              "     width=\"24px\">\n",
              "    <g>\n",
              "        <path d=\"M19 3H5c-1.1 0-2 .9-2 2v14c0 1.1.9 2 2 2h14c1.1 0 2-.9 2-2V5c0-1.1-.9-2-2-2zM9 17H7v-7h2v7zm4 0h-2V7h2v10zm4 0h-2v-4h2v4z\"/>\n",
              "    </g>\n",
              "</svg>\n",
              "  </button>\n",
              "\n",
              "<style>\n",
              "  .colab-df-quickchart {\n",
              "      --bg-color: #E8F0FE;\n",
              "      --fill-color: #1967D2;\n",
              "      --hover-bg-color: #E2EBFA;\n",
              "      --hover-fill-color: #174EA6;\n",
              "      --disabled-fill-color: #AAA;\n",
              "      --disabled-bg-color: #DDD;\n",
              "  }\n",
              "\n",
              "  [theme=dark] .colab-df-quickchart {\n",
              "      --bg-color: #3B4455;\n",
              "      --fill-color: #D2E3FC;\n",
              "      --hover-bg-color: #434B5C;\n",
              "      --hover-fill-color: #FFFFFF;\n",
              "      --disabled-bg-color: #3B4455;\n",
              "      --disabled-fill-color: #666;\n",
              "  }\n",
              "\n",
              "  .colab-df-quickchart {\n",
              "    background-color: var(--bg-color);\n",
              "    border: none;\n",
              "    border-radius: 50%;\n",
              "    cursor: pointer;\n",
              "    display: none;\n",
              "    fill: var(--fill-color);\n",
              "    height: 32px;\n",
              "    padding: 0;\n",
              "    width: 32px;\n",
              "  }\n",
              "\n",
              "  .colab-df-quickchart:hover {\n",
              "    background-color: var(--hover-bg-color);\n",
              "    box-shadow: 0 1px 2px rgba(60, 64, 67, 0.3), 0 1px 3px 1px rgba(60, 64, 67, 0.15);\n",
              "    fill: var(--button-hover-fill-color);\n",
              "  }\n",
              "\n",
              "  .colab-df-quickchart-complete:disabled,\n",
              "  .colab-df-quickchart-complete:disabled:hover {\n",
              "    background-color: var(--disabled-bg-color);\n",
              "    fill: var(--disabled-fill-color);\n",
              "    box-shadow: none;\n",
              "  }\n",
              "\n",
              "  .colab-df-spinner {\n",
              "    border: 2px solid var(--fill-color);\n",
              "    border-color: transparent;\n",
              "    border-bottom-color: var(--fill-color);\n",
              "    animation:\n",
              "      spin 1s steps(1) infinite;\n",
              "  }\n",
              "\n",
              "  @keyframes spin {\n",
              "    0% {\n",
              "      border-color: transparent;\n",
              "      border-bottom-color: var(--fill-color);\n",
              "      border-left-color: var(--fill-color);\n",
              "    }\n",
              "    20% {\n",
              "      border-color: transparent;\n",
              "      border-left-color: var(--fill-color);\n",
              "      border-top-color: var(--fill-color);\n",
              "    }\n",
              "    30% {\n",
              "      border-color: transparent;\n",
              "      border-left-color: var(--fill-color);\n",
              "      border-top-color: var(--fill-color);\n",
              "      border-right-color: var(--fill-color);\n",
              "    }\n",
              "    40% {\n",
              "      border-color: transparent;\n",
              "      border-right-color: var(--fill-color);\n",
              "      border-top-color: var(--fill-color);\n",
              "    }\n",
              "    60% {\n",
              "      border-color: transparent;\n",
              "      border-right-color: var(--fill-color);\n",
              "    }\n",
              "    80% {\n",
              "      border-color: transparent;\n",
              "      border-right-color: var(--fill-color);\n",
              "      border-bottom-color: var(--fill-color);\n",
              "    }\n",
              "    90% {\n",
              "      border-color: transparent;\n",
              "      border-bottom-color: var(--fill-color);\n",
              "    }\n",
              "  }\n",
              "</style>\n",
              "\n",
              "  <script>\n",
              "    async function quickchart(key) {\n",
              "      const quickchartButtonEl =\n",
              "        document.querySelector('#' + key + ' button');\n",
              "      quickchartButtonEl.disabled = true;  // To prevent multiple clicks.\n",
              "      quickchartButtonEl.classList.add('colab-df-spinner');\n",
              "      try {\n",
              "        const charts = await google.colab.kernel.invokeFunction(\n",
              "            'suggestCharts', [key], {});\n",
              "      } catch (error) {\n",
              "        console.error('Error during call to suggestCharts:', error);\n",
              "      }\n",
              "      quickchartButtonEl.classList.remove('colab-df-spinner');\n",
              "      quickchartButtonEl.classList.add('colab-df-quickchart-complete');\n",
              "    }\n",
              "    (() => {\n",
              "      let quickchartButtonEl =\n",
              "        document.querySelector('#df-c652dc12-2c8b-40bc-ba0a-9c0d77164780 button');\n",
              "      quickchartButtonEl.style.display =\n",
              "        google.colab.kernel.accessAllowed ? 'block' : 'none';\n",
              "    })();\n",
              "  </script>\n",
              "</div>\n",
              "\n",
              "  <div id=\"id_7b19d086-6190-4da8-ba6e-a8ad37f5e334\">\n",
              "    <style>\n",
              "      .colab-df-generate {\n",
              "        background-color: #E8F0FE;\n",
              "        border: none;\n",
              "        border-radius: 50%;\n",
              "        cursor: pointer;\n",
              "        display: none;\n",
              "        fill: #1967D2;\n",
              "        height: 32px;\n",
              "        padding: 0 0 0 0;\n",
              "        width: 32px;\n",
              "      }\n",
              "\n",
              "      .colab-df-generate:hover {\n",
              "        background-color: #E2EBFA;\n",
              "        box-shadow: 0px 1px 2px rgba(60, 64, 67, 0.3), 0px 1px 3px 1px rgba(60, 64, 67, 0.15);\n",
              "        fill: #174EA6;\n",
              "      }\n",
              "\n",
              "      [theme=dark] .colab-df-generate {\n",
              "        background-color: #3B4455;\n",
              "        fill: #D2E3FC;\n",
              "      }\n",
              "\n",
              "      [theme=dark] .colab-df-generate:hover {\n",
              "        background-color: #434B5C;\n",
              "        box-shadow: 0px 1px 3px 1px rgba(0, 0, 0, 0.15);\n",
              "        filter: drop-shadow(0px 1px 2px rgba(0, 0, 0, 0.3));\n",
              "        fill: #FFFFFF;\n",
              "      }\n",
              "    </style>\n",
              "    <button class=\"colab-df-generate\" onclick=\"generateWithVariable('X_test_pca_df')\"\n",
              "            title=\"Generate code using this dataframe.\"\n",
              "            style=\"display:none;\">\n",
              "\n",
              "  <svg xmlns=\"http://www.w3.org/2000/svg\" height=\"24px\"viewBox=\"0 0 24 24\"\n",
              "       width=\"24px\">\n",
              "    <path d=\"M7,19H8.4L18.45,9,17,7.55,7,17.6ZM5,21V16.75L18.45,3.32a2,2,0,0,1,2.83,0l1.4,1.43a1.91,1.91,0,0,1,.58,1.4,1.91,1.91,0,0,1-.58,1.4L9.25,21ZM18.45,9,17,7.55Zm-12,3A5.31,5.31,0,0,0,4.9,8.1,5.31,5.31,0,0,0,1,6.5,5.31,5.31,0,0,0,4.9,4.9,5.31,5.31,0,0,0,6.5,1,5.31,5.31,0,0,0,8.1,4.9,5.31,5.31,0,0,0,12,6.5,5.46,5.46,0,0,0,6.5,12Z\"/>\n",
              "  </svg>\n",
              "    </button>\n",
              "    <script>\n",
              "      (() => {\n",
              "      const buttonEl =\n",
              "        document.querySelector('#id_7b19d086-6190-4da8-ba6e-a8ad37f5e334 button.colab-df-generate');\n",
              "      buttonEl.style.display =\n",
              "        google.colab.kernel.accessAllowed ? 'block' : 'none';\n",
              "\n",
              "      buttonEl.onclick = () => {\n",
              "        google.colab.notebook.generateWithVariable('X_test_pca_df');\n",
              "      }\n",
              "      })();\n",
              "    </script>\n",
              "  </div>\n",
              "\n",
              "    </div>\n",
              "  </div>\n"
            ],
            "application/vnd.google.colaboratory.intrinsic+json": {
              "type": "dataframe",
              "variable_name": "X_test_pca_df"
            }
          },
          "metadata": {},
          "execution_count": 48
        }
      ]
    },
    {
      "cell_type": "code",
      "source": [
        "# X_train_pca_df.to_csv('X_train_pca.csv', index=False)\n",
        "# X_test_pca_df.to_csv('X_test_pca.csv', index=False)"
      ],
      "metadata": {
        "id": "q-nb1-NmnX7G"
      },
      "execution_count": null,
      "outputs": []
    },
    {
      "cell_type": "code",
      "source": [
        "# from google.colab import files\n",
        "# files.download('X_train_pca.csv')"
      ],
      "metadata": {
        "id": "FcWRx8j7nboG"
      },
      "execution_count": null,
      "outputs": []
    },
    {
      "cell_type": "code",
      "source": [
        "# files.download('X_test_pca.csv')"
      ],
      "metadata": {
        "id": "iQK0mS4zn4_Y"
      },
      "execution_count": null,
      "outputs": []
    },
    {
      "cell_type": "markdown",
      "source": [
        "## Training 2: Final Model"
      ],
      "metadata": {
        "id": "py00xy4R7A9I"
      }
    },
    {
      "cell_type": "code",
      "source": [
        "### SVM-R (SVR) - Training 2 ###\n",
        "from sklearn.svm import SVR\n",
        "from sklearn.preprocessing import StandardScaler\n",
        "from sklearn.pipeline import Pipeline\n",
        "from sklearn.metrics import mean_squared_error, r2_score\n",
        "\n",
        "svm_pipeline = Pipeline([\n",
        "    ('svm', SVR())\n",
        "])\n",
        "\n",
        "svm_pipeline.fit(X_train_pca, y_train)\n",
        "\n",
        "y_pred_svm = svm_pipeline.predict(X_test_pca)\n",
        "mse_svm = mean_squared_error(y_test, y_pred_svm)\n",
        "r2_svm = r2_score(y_test, y_pred_svm)\n",
        "print(f\"SVM Mean Squared Error: {mse_svm:.2f}\")\n",
        "print(f\"SVM R^2 Score: {r2_svm:.2f}\")"
      ],
      "metadata": {
        "colab": {
          "base_uri": "https://localhost:8080/"
        },
        "id": "ivMpe12N8C1U",
        "outputId": "3b835015-8b5a-453f-c8f6-c87ff352bd62"
      },
      "execution_count": null,
      "outputs": [
        {
          "output_type": "stream",
          "name": "stdout",
          "text": [
            "SVM Mean Squared Error: 4023118889.48\n",
            "SVM R^2 Score: -0.09\n"
          ]
        }
      ]
    },
    {
      "cell_type": "code",
      "source": [
        "### MLP - Training 2 ###\n",
        "\n",
        "from sklearn.neural_network import MLPRegressor\n",
        "from sklearn.preprocessing import StandardScaler\n",
        "from sklearn.pipeline import Pipeline\n",
        "\n",
        "mlp_pipeline = Pipeline([\n",
        "    ('mlp', MLPRegressor(max_iter=2500, random_state = 43, activation = 'relu', solver = 'adam', learning_rate = 'adaptive'))\n",
        "])\n",
        "\n",
        "# Train\n",
        "mlp_pipeline.fit(X_train_pca, y_train)\n",
        "\n",
        "y_pred_mlp = mlp_pipeline.predict(X_test_pca)\n",
        "mse_mlp = mean_squared_error(y_test, y_pred_mlp)\n",
        "r2_mlp = r2_score(y_test, y_pred_mlp)\n",
        "print(f\"MLP Mean Squared Error: {mse_mlp:.2f}\")\n",
        "print(f\"MLP R^2 Score: {r2_mlp:.2f}\")"
      ],
      "metadata": {
        "colab": {
          "base_uri": "https://localhost:8080/"
        },
        "id": "1y_Qz19d-LWs",
        "outputId": "62f61ec8-816d-42e7-a425-4b1f9fd2d06d"
      },
      "execution_count": null,
      "outputs": [
        {
          "output_type": "stream",
          "name": "stdout",
          "text": [
            "MLP Mean Squared Error: 3379114831.74\n",
            "MLP R^2 Score: 0.08\n"
          ]
        },
        {
          "output_type": "stream",
          "name": "stderr",
          "text": [
            "/usr/local/lib/python3.10/dist-packages/sklearn/neural_network/_multilayer_perceptron.py:686: ConvergenceWarning: Stochastic Optimizer: Maximum iterations (2500) reached and the optimization hasn't converged yet.\n",
            "  warnings.warn(\n"
          ]
        }
      ]
    },
    {
      "cell_type": "markdown",
      "source": [
        "HYPERPARAMETER TUNING:\n",
        "\n",
        "- Alpha (L2 Regularisasi) = (0.0001, 0.001, 0.01, 0.1, 0.5, 1)\n",
        "- Learning rate: constant\n",
        "- Learning rate initialitation = (0.001, 0.01, 0.1, 0.5, 1, 1.5, 2)\n",
        "- Solver (Weight Optimization): adam\n",
        "- Max_iter(epoch) = (50, 100, 150, 200)\n"
      ],
      "metadata": {
        "id": "-yuukxqZ2jtk"
      }
    },
    {
      "cell_type": "code",
      "source": [
        "mlp = MLPRegressor()\n",
        "L2_Reg_list = [0.0001, 0.001, 0.01, 0.1, 0.5, 1, 1.5, 2]\n",
        "\n",
        "L2_Reg = []\n",
        "r2_scores = []\n",
        "\n",
        "for reg in L2_Reg_list:\n",
        "    mlp = MLPRegressor(alpha=reg, random_state=42).fit(X_train_pca, y_train)\n",
        "    r2 = r2_score(y_test, mlp.predict(X_test_pca))\n",
        "    r2_scores.append(r2)\n",
        "    L2_Reg.append(reg)\n",
        "\n",
        "#create dataset eta\n",
        "df_reg = pd.DataFrame({'L2 Regularization': L2_Reg, 'r2_score': r2_scores})"
      ],
      "metadata": {
        "id": "bWawWKk65ow3"
      },
      "execution_count": null,
      "outputs": []
    },
    {
      "cell_type": "code",
      "source": [
        "import seaborn as sns\n",
        "\n",
        "plt.figure(figsize=(8, 6))\n",
        "sns.barplot(data=df_reg, x= df_reg['L2 Regularization'], y= df_reg['r2_score'])\n",
        "plt.title('Tuning L2 Regularization MLP')\n",
        "plt.show()"
      ],
      "metadata": {
        "id": "g24Y-b3d7anJ"
      },
      "execution_count": null,
      "outputs": []
    },
    {
      "cell_type": "code",
      "source": [
        "mlp = MLPRegressor()\n",
        "epoch_list = [200, 250, 500, 1000, 2000, 2500, 3000, 5000]\n",
        "\n",
        "epoch = []\n",
        "r2_scores = []\n",
        "\n",
        "for e in epoch_list:\n",
        "    mlp = MLPRegressor(max_iter = e, random_state=42).fit(X_train_pca, y_train)\n",
        "    r2 = r2_score(y_test, mlp.predict(X_test_pca))\n",
        "    r2_scores.append(r2)\n",
        "    epoch.append(e)\n",
        "\n",
        "df_epoch = pd.DataFrame({'epoch': epoch, 'r2_score': r2_scores})"
      ],
      "metadata": {
        "id": "o4nQew1E8Ndj"
      },
      "execution_count": null,
      "outputs": []
    },
    {
      "cell_type": "code",
      "source": [
        "plt.figure(figsize=(8, 6))\n",
        "sns.barplot(data=df_epoch, x= df_epoch['epoch'], y= df_epoch['r2_score'])\n",
        "plt.title('Tuning epoch MLP')\n",
        "plt.show()"
      ],
      "metadata": {
        "id": "4d1B0hs_8q8Z"
      },
      "execution_count": null,
      "outputs": []
    },
    {
      "cell_type": "code",
      "source": [
        "df_epoch"
      ],
      "metadata": {
        "id": "doVCwyjt83XC"
      },
      "execution_count": null,
      "outputs": []
    },
    {
      "cell_type": "code",
      "source": [
        "mlp = MLPRegressor()\n",
        "eta_list = [0.001, 0.01, 0.02, 0.03, 0.04, 0.05, 0.1, 0.2, 0.3, 0.4, 0.5, 1, 1.5, 2]\n",
        "\n",
        "eta = []\n",
        "r2_scores = []\n",
        "\n",
        "for etaa in eta_list:\n",
        "    mlp = MLPRegressor(learning_rate_init = etaa, random_state=42).fit(X_train_pca, y_train)\n",
        "    r2 = r2_score(y_test, mlp.predict(X_test_pca))\n",
        "    r2_scores.append(r2)\n",
        "    eta.append(etaa)\n",
        "\n",
        "df_eta = pd.DataFrame({'Learning Rate': eta, 'r2_score': r2_scores})"
      ],
      "metadata": {
        "id": "JAbLAtMZ9WYV"
      },
      "execution_count": null,
      "outputs": []
    },
    {
      "cell_type": "code",
      "source": [
        "plt.figure(figsize=(8, 6))\n",
        "sns.barplot(data=df_eta, x= df_eta['Learning Rate'], y= df_eta['r2_score'])\n",
        "plt.title('Tuning eta MLP')\n",
        "plt.show()"
      ],
      "metadata": {
        "id": "A4brqYVW_AUP"
      },
      "execution_count": null,
      "outputs": []
    },
    {
      "cell_type": "code",
      "source": [
        "mlp = MLPRegressor()\n",
        "hidden_layer_list = [100, 200, 250, 500, 1000, 1500, 2000, 5000, 10000, 15000, 20000]\n",
        "\n",
        "hidden_layer = []\n",
        "r2_scores = []\n",
        "\n",
        "for hl in hidden_layer_list:\n",
        "    mlp = MLPRegressor(hidden_layer_sizes = hl, random_state=42, activation = 'relu', solver = 'adam').fit(X_train_pca, y_train)\n",
        "    r2 = r2_score(y_test, mlp.predict(X_test_pca))\n",
        "    r2_scores.append(r2)\n",
        "    hidden_layer.append(hl)\n",
        "\n",
        "df_hl = pd.DataFrame({'Hidden Layer': hidden_layer, 'r2_score': r2_scores})"
      ],
      "metadata": {
        "id": "ie_ywwM3_eUD"
      },
      "execution_count": null,
      "outputs": []
    },
    {
      "cell_type": "code",
      "source": [
        "plt.figure(figsize=(8, 6))\n",
        "sns.barplot(data=df_hl, x= df_hl['Hidden Layer'], y= df_hl['r2_score'])\n",
        "plt.title('Tuning hidden layer MLP')\n",
        "plt.show()"
      ],
      "metadata": {
        "id": "6Bo0IxzgACdX"
      },
      "execution_count": null,
      "outputs": []
    },
    {
      "cell_type": "code",
      "source": [
        "from sklearn.model_selection import GridSearchCV\n",
        "\n",
        "# Inisialisasi MLPRegressor\n",
        "mlp = MLPRegressor(\n",
        "    random_state=42,\n",
        "    activation='relu',\n",
        "    learning_rate='constant',\n",
        "    solver='adam',\n",
        "    learning_rate_init=0.01,\n",
        "    alpha=0.01\n",
        ")\n",
        "\n",
        "# parameter grid\n",
        "param_grid = {\n",
        "    'hidden_layer_sizes': [(6000,), (8000,), (10000,), (12000,)],\n",
        "    'max_iter': [2000, 2300, 2500, 2700],\n",
        "}\n",
        "\n",
        "# Inisialisasi GridSearchCV\n",
        "grid_search = GridSearchCV(estimator=mlp, param_grid=param_grid, cv=3, scoring='r2', n_jobs=-1, verbose=1)\n",
        "\n",
        "# Fit grid search ke data pelatihan\n",
        "grid_search.fit(X_train_pca, y_train)\n",
        "\n",
        "# Mendapatkan parameter terbaik\n",
        "best_params = grid_search.best_params_\n",
        "print(\"Best parameters found: \", best_params)\n",
        "\n",
        "# Prediksi menggunakan model terbaik\n",
        "best_mlp = grid_search.best_estimator_\n",
        "predict_test = best_mlp.predict(X_test_pca)\n",
        "r2_score_test = r2_score(y_test, predict_test)\n",
        "\n",
        "print('r2 score test:', r2_score_test)"
      ],
      "metadata": {
        "id": "jglhonzSAUsM"
      },
      "execution_count": null,
      "outputs": []
    },
    {
      "cell_type": "markdown",
      "source": [
        "## Save Model"
      ],
      "metadata": {
        "id": "V1PmfUN7uRnE"
      }
    },
    {
      "cell_type": "code",
      "source": [
        "# Save Model Pipeline --> MLP\n",
        "\n",
        "# from rdkit.Chem import AllChem\n",
        "# from rdkit import Chem\n",
        "# from rdkit.Chem import Descriptors\n",
        "# from rdkit.ML.Descriptors import MoleculeDescriptors\n",
        "# import pandas as pd\n",
        "# pd.set_option('display.max_columns',None)\n",
        "# import numpy as np\n",
        "# from sklearn.neural_network import MLPRegressor\n",
        "# from sklearn.preprocessing import StandardScaler\n",
        "# from sklearn.pipeline import Pipeline\n",
        "# from sklearn.metrics import mean_squared_error, r2_score\n",
        "# import joblib\n",
        "# from google.colab import files\n",
        "\n",
        "# # Canonical SMILES generation\n",
        "# def canonical_smiles(smiles):\n",
        "#    mols = [Chem.MolFromSmiles(smi) for smi in smiles]\n",
        "#    canonical_smiles = [Chem.MolToSmiles(mol) for mol in mols]\n",
        "#    return canonical_smiles\n",
        "\n",
        "# df['canonical'] = canonical_smiles(df['smiles'])\n",
        "\n",
        "# # Descriptor calculation\n",
        "# def RDkit_descriptors(smiles):\n",
        "#     mols = [Chem.MolFromSmiles(i) for i in smiles]\n",
        "#     calc = MoleculeDescriptors.MolecularDescriptorCalculator([x[0] for x in Descriptors._descList])\n",
        "#     desc_names = calc.GetDescriptorNames()\n",
        "\n",
        "#     Mol_descriptors =[]\n",
        "#     for mol in mols:\n",
        "#         # add hydrogens to molecules\n",
        "#         mol=Chem.AddHs(mol)\n",
        "#         # Calculate all 200 descriptors for each molecule\n",
        "#         descriptors = calc.CalcDescriptors(mol)\n",
        "#         Mol_descriptors.append(descriptors)\n",
        "#     return Mol_descriptors,desc_names\n",
        "\n",
        "# Mol_descriptors,desc_names = RDkit_descriptors(df['canonical'])\n",
        "\n",
        "# mlp_pipeline = Pipeline([\n",
        "#     ('scaler', StandardScaler()),\n",
        "#     ('mlp', MLPRegressor(hidden_layer_sizes=(10000,), max_iter=2500, random_state=42, activation='relu', learning_rate='adam', solver='adam', learning_rate_init=0.01, alpha=0.01))\n",
        "# ])\n",
        "\n",
        "# mlp_pipeline.fit(X_train, y_train)\n",
        "\n",
        "# # Predict and evaluate\n",
        "# y_pred_mlp = mlp_pipeline.predict(X_test)\n",
        "# mse_mlp = mean_squared_error(y_test, y_pred_mlp)\n",
        "# r2_mlp = r2_score(y_test, y_pred_mlp)\n",
        "# print(f\"MLP Mean Squared Error: {mse_mlp:.2f}\")\n",
        "# print(f\"MLP R^2 Score: {r2_mlp:.2f}\")\n",
        "\n",
        "# # Save the model to a file\n",
        "# joblib.dump(mlp_pipeline, 'project4.pkl')\n",
        "\n",
        "# # Download the model file\n",
        "# files.download('project4.pkl')"
      ],
      "metadata": {
        "id": "BFgTkrnP_JC0"
      },
      "execution_count": null,
      "outputs": []
    }
  ]
}